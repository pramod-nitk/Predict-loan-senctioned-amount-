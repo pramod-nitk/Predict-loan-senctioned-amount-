{
  "nbformat": 4,
  "nbformat_minor": 0,
  "metadata": {
    "colab": {
      "name": "Untitled3.ipynb",
      "provenance": [],
      "collapsed_sections": [],
      "authorship_tag": "ABX9TyOa5WkhyyBRuQr4ixmNW6gW",
      "include_colab_link": true
    },
    "kernelspec": {
      "name": "python3",
      "display_name": "Python 3"
    },
    "language_info": {
      "name": "python"
    },
    "accelerator": "GPU"
  },
  "cells": [
    {
      "cell_type": "markdown",
      "metadata": {
        "id": "view-in-github",
        "colab_type": "text"
      },
      "source": [
        "<a href=\"https://colab.research.google.com/github/pramod-nitk/pramod/blob/master/Untitled3.ipynb\" target=\"_parent\"><img src=\"https://colab.research.google.com/assets/colab-badge.svg\" alt=\"Open In Colab\"/></a>"
      ]
    },
    {
      "cell_type": "code",
      "metadata": {
        "colab": {
          "base_uri": "https://localhost:8080/"
        },
        "id": "0Vr5DCynE0lK",
        "outputId": "540733ac-a3ba-4686-ff31-c2eee6e31cf8"
      },
      "source": [
        "import pandas as pd\n",
        "import numpy as np\n",
        "import os\n",
        "import tensorflow as tf\n",
        "print(tf.__version__)\n",
        "print(tf.config.list_physical_devices('GPU'))\n"
      ],
      "execution_count": 206,
      "outputs": [
        {
          "output_type": "stream",
          "text": [
            "2.5.0\n",
            "[PhysicalDevice(name='/physical_device:GPU:0', device_type='GPU')]\n"
          ],
          "name": "stdout"
        }
      ]
    },
    {
      "cell_type": "code",
      "metadata": {
        "colab": {
          "base_uri": "https://localhost:8080/"
        },
        "id": "By8hhU1cFBPj",
        "outputId": "e5506462-68d7-49d5-b651-8592382e7eec"
      },
      "source": [
        "os.listdir()"
      ],
      "execution_count": 207,
      "outputs": [
        {
          "output_type": "execute_result",
          "data": {
            "text/plain": [
              "['.config', 'sample_submission.csv', 'test.csv', 'train.csv', 'sample_data']"
            ]
          },
          "metadata": {
            "tags": []
          },
          "execution_count": 207
        }
      ]
    },
    {
      "cell_type": "code",
      "metadata": {
        "id": "fR6yJ6nvFjXC"
      },
      "source": [
        "train = pd.read_csv(\"train.csv\")\n",
        "test = pd.read_csv(\"test.csv\")"
      ],
      "execution_count": 208,
      "outputs": []
    },
    {
      "cell_type": "code",
      "metadata": {
        "colab": {
          "base_uri": "https://localhost:8080/",
          "height": 360
        },
        "id": "khdlmDjFF0lS",
        "outputId": "29b52b69-4643-4621-fa9f-02968a2602aa"
      },
      "source": [
        "train.head()"
      ],
      "execution_count": 209,
      "outputs": [
        {
          "output_type": "execute_result",
          "data": {
            "text/html": [
              "<div>\n",
              "<style scoped>\n",
              "    .dataframe tbody tr th:only-of-type {\n",
              "        vertical-align: middle;\n",
              "    }\n",
              "\n",
              "    .dataframe tbody tr th {\n",
              "        vertical-align: top;\n",
              "    }\n",
              "\n",
              "    .dataframe thead th {\n",
              "        text-align: right;\n",
              "    }\n",
              "</style>\n",
              "<table border=\"1\" class=\"dataframe\">\n",
              "  <thead>\n",
              "    <tr style=\"text-align: right;\">\n",
              "      <th></th>\n",
              "      <th>Customer ID</th>\n",
              "      <th>Name</th>\n",
              "      <th>Gender</th>\n",
              "      <th>Age</th>\n",
              "      <th>Income (USD)</th>\n",
              "      <th>Income Stability</th>\n",
              "      <th>Profession</th>\n",
              "      <th>Type of Employment</th>\n",
              "      <th>Location</th>\n",
              "      <th>Loan Amount Request (USD)</th>\n",
              "      <th>Current Loan Expenses (USD)</th>\n",
              "      <th>Expense Type 1</th>\n",
              "      <th>Expense Type 2</th>\n",
              "      <th>Dependents</th>\n",
              "      <th>Credit Score</th>\n",
              "      <th>No. of Defaults</th>\n",
              "      <th>Has Active Credit Card</th>\n",
              "      <th>Property ID</th>\n",
              "      <th>Property Age</th>\n",
              "      <th>Property Type</th>\n",
              "      <th>Property Location</th>\n",
              "      <th>Co-Applicant</th>\n",
              "      <th>Property Price</th>\n",
              "      <th>Loan Sanction Amount (USD)</th>\n",
              "    </tr>\n",
              "  </thead>\n",
              "  <tbody>\n",
              "    <tr>\n",
              "      <th>0</th>\n",
              "      <td>C-36995</td>\n",
              "      <td>Frederica Shealy</td>\n",
              "      <td>F</td>\n",
              "      <td>56</td>\n",
              "      <td>1933.05</td>\n",
              "      <td>Low</td>\n",
              "      <td>Working</td>\n",
              "      <td>Sales staff</td>\n",
              "      <td>Semi-Urban</td>\n",
              "      <td>72809.58</td>\n",
              "      <td>241.08</td>\n",
              "      <td>N</td>\n",
              "      <td>N</td>\n",
              "      <td>3.0</td>\n",
              "      <td>809.44</td>\n",
              "      <td>0</td>\n",
              "      <td>NaN</td>\n",
              "      <td>746</td>\n",
              "      <td>1933.05</td>\n",
              "      <td>4</td>\n",
              "      <td>Rural</td>\n",
              "      <td>1</td>\n",
              "      <td>119933.46</td>\n",
              "      <td>54607.18</td>\n",
              "    </tr>\n",
              "    <tr>\n",
              "      <th>1</th>\n",
              "      <td>C-33999</td>\n",
              "      <td>America Calderone</td>\n",
              "      <td>M</td>\n",
              "      <td>32</td>\n",
              "      <td>4952.91</td>\n",
              "      <td>Low</td>\n",
              "      <td>Working</td>\n",
              "      <td>NaN</td>\n",
              "      <td>Semi-Urban</td>\n",
              "      <td>46837.47</td>\n",
              "      <td>495.81</td>\n",
              "      <td>N</td>\n",
              "      <td>Y</td>\n",
              "      <td>1.0</td>\n",
              "      <td>780.40</td>\n",
              "      <td>0</td>\n",
              "      <td>Unpossessed</td>\n",
              "      <td>608</td>\n",
              "      <td>4952.91</td>\n",
              "      <td>2</td>\n",
              "      <td>Rural</td>\n",
              "      <td>1</td>\n",
              "      <td>54791.00</td>\n",
              "      <td>37469.98</td>\n",
              "    </tr>\n",
              "    <tr>\n",
              "      <th>2</th>\n",
              "      <td>C-3770</td>\n",
              "      <td>Rosetta Verne</td>\n",
              "      <td>F</td>\n",
              "      <td>65</td>\n",
              "      <td>988.19</td>\n",
              "      <td>High</td>\n",
              "      <td>Pensioner</td>\n",
              "      <td>NaN</td>\n",
              "      <td>Semi-Urban</td>\n",
              "      <td>45593.04</td>\n",
              "      <td>171.95</td>\n",
              "      <td>N</td>\n",
              "      <td>Y</td>\n",
              "      <td>1.0</td>\n",
              "      <td>833.15</td>\n",
              "      <td>0</td>\n",
              "      <td>Unpossessed</td>\n",
              "      <td>546</td>\n",
              "      <td>988.19</td>\n",
              "      <td>2</td>\n",
              "      <td>Urban</td>\n",
              "      <td>0</td>\n",
              "      <td>72440.58</td>\n",
              "      <td>36474.43</td>\n",
              "    </tr>\n",
              "    <tr>\n",
              "      <th>3</th>\n",
              "      <td>C-26480</td>\n",
              "      <td>Zoe Chitty</td>\n",
              "      <td>F</td>\n",
              "      <td>65</td>\n",
              "      <td>NaN</td>\n",
              "      <td>High</td>\n",
              "      <td>Pensioner</td>\n",
              "      <td>NaN</td>\n",
              "      <td>Rural</td>\n",
              "      <td>80057.92</td>\n",
              "      <td>298.54</td>\n",
              "      <td>N</td>\n",
              "      <td>Y</td>\n",
              "      <td>2.0</td>\n",
              "      <td>832.70</td>\n",
              "      <td>1</td>\n",
              "      <td>Unpossessed</td>\n",
              "      <td>890</td>\n",
              "      <td>NaN</td>\n",
              "      <td>2</td>\n",
              "      <td>Semi-Urban</td>\n",
              "      <td>1</td>\n",
              "      <td>121441.51</td>\n",
              "      <td>56040.54</td>\n",
              "    </tr>\n",
              "    <tr>\n",
              "      <th>4</th>\n",
              "      <td>C-23459</td>\n",
              "      <td>Afton Venema</td>\n",
              "      <td>F</td>\n",
              "      <td>31</td>\n",
              "      <td>2614.77</td>\n",
              "      <td>Low</td>\n",
              "      <td>Working</td>\n",
              "      <td>High skill tech staff</td>\n",
              "      <td>Semi-Urban</td>\n",
              "      <td>113858.89</td>\n",
              "      <td>491.41</td>\n",
              "      <td>N</td>\n",
              "      <td>Y</td>\n",
              "      <td>NaN</td>\n",
              "      <td>745.55</td>\n",
              "      <td>1</td>\n",
              "      <td>Active</td>\n",
              "      <td>715</td>\n",
              "      <td>2614.77</td>\n",
              "      <td>4</td>\n",
              "      <td>Semi-Urban</td>\n",
              "      <td>1</td>\n",
              "      <td>208567.91</td>\n",
              "      <td>74008.28</td>\n",
              "    </tr>\n",
              "  </tbody>\n",
              "</table>\n",
              "</div>"
            ],
            "text/plain": [
              "  Customer ID               Name  ... Property Price  Loan Sanction Amount (USD)\n",
              "0     C-36995   Frederica Shealy  ...      119933.46                    54607.18\n",
              "1     C-33999  America Calderone  ...       54791.00                    37469.98\n",
              "2      C-3770      Rosetta Verne  ...       72440.58                    36474.43\n",
              "3     C-26480         Zoe Chitty  ...      121441.51                    56040.54\n",
              "4     C-23459       Afton Venema  ...      208567.91                    74008.28\n",
              "\n",
              "[5 rows x 24 columns]"
            ]
          },
          "metadata": {
            "tags": []
          },
          "execution_count": 209
        }
      ]
    },
    {
      "cell_type": "code",
      "metadata": {
        "colab": {
          "base_uri": "https://localhost:8080/"
        },
        "id": "J6kHB97OF1tH",
        "outputId": "a0c658a5-2d1a-4309-946f-e1b9b361424c"
      },
      "source": [
        "train.isnull().sum()"
      ],
      "execution_count": 210,
      "outputs": [
        {
          "output_type": "execute_result",
          "data": {
            "text/plain": [
              "Customer ID                       0\n",
              "Name                              0\n",
              "Gender                           53\n",
              "Age                               0\n",
              "Income (USD)                   4576\n",
              "Income Stability               1683\n",
              "Profession                        0\n",
              "Type of Employment             7270\n",
              "Location                          0\n",
              "Loan Amount Request (USD)         0\n",
              "Current Loan Expenses (USD)     172\n",
              "Expense Type 1                    0\n",
              "Expense Type 2                    0\n",
              "Dependents                     2493\n",
              "Credit Score                   1703\n",
              "No. of Defaults                   0\n",
              "Has Active Credit Card         1566\n",
              "Property ID                       0\n",
              "Property Age                   4850\n",
              "Property Type                     0\n",
              "Property Location               356\n",
              "Co-Applicant                      0\n",
              "Property Price                    0\n",
              "Loan Sanction Amount (USD)      340\n",
              "dtype: int64"
            ]
          },
          "metadata": {
            "tags": []
          },
          "execution_count": 210
        }
      ]
    },
    {
      "cell_type": "code",
      "metadata": {
        "colab": {
          "base_uri": "https://localhost:8080/"
        },
        "id": "aFNlRsk5j7TT",
        "outputId": "331bf5b0-5b12-4564-e66d-57a2b4114be4"
      },
      "source": [
        "train.dtypes"
      ],
      "execution_count": 211,
      "outputs": [
        {
          "output_type": "execute_result",
          "data": {
            "text/plain": [
              "Customer ID                     object\n",
              "Name                            object\n",
              "Gender                          object\n",
              "Age                              int64\n",
              "Income (USD)                   float64\n",
              "Income Stability                object\n",
              "Profession                      object\n",
              "Type of Employment              object\n",
              "Location                        object\n",
              "Loan Amount Request (USD)      float64\n",
              "Current Loan Expenses (USD)    float64\n",
              "Expense Type 1                  object\n",
              "Expense Type 2                  object\n",
              "Dependents                     float64\n",
              "Credit Score                   float64\n",
              "No. of Defaults                  int64\n",
              "Has Active Credit Card          object\n",
              "Property ID                      int64\n",
              "Property Age                   float64\n",
              "Property Type                    int64\n",
              "Property Location               object\n",
              "Co-Applicant                     int64\n",
              "Property Price                 float64\n",
              "Loan Sanction Amount (USD)     float64\n",
              "dtype: object"
            ]
          },
          "metadata": {
            "tags": []
          },
          "execution_count": 211
        }
      ]
    },
    {
      "cell_type": "code",
      "metadata": {
        "id": "bXGyf2gYGD_g"
      },
      "source": [
        "#1.  Data Description\n",
        "#2.  Data Treatment\n",
        "## a. Missing values treatment\n",
        "#### aa. mean and median for numerical features\n",
        "#### ab. mode for categorical feature\n",
        "## b. Outlier detection and fixed for numerical features\n",
        "## c. feature correlation check and remove if any\n",
        "### ca. dimensionality reduction for time saving\n",
        "## d. base model on final feature set\n",
        "## e. feature selection and final model training and testing\n",
        "## f. Logistic regression , linear regression, Decision tree, Xgboost and Deep learning model for regression or classification\n"
      ],
      "execution_count": 212,
      "outputs": []
    },
    {
      "cell_type": "code",
      "metadata": {
        "id": "m1Nax8AaSfh5"
      },
      "source": [
        "########################################### Data Description #####################################################################"
      ],
      "execution_count": 213,
      "outputs": []
    },
    {
      "cell_type": "code",
      "metadata": {
        "colab": {
          "base_uri": "https://localhost:8080/",
          "height": 368
        },
        "id": "yEX1wCnWSkQs",
        "outputId": "7fcd0217-5f9d-41f6-e1ea-c2f16ce01a28"
      },
      "source": [
        "train.describe()\n"
      ],
      "execution_count": 214,
      "outputs": [
        {
          "output_type": "execute_result",
          "data": {
            "text/html": [
              "<div>\n",
              "<style scoped>\n",
              "    .dataframe tbody tr th:only-of-type {\n",
              "        vertical-align: middle;\n",
              "    }\n",
              "\n",
              "    .dataframe tbody tr th {\n",
              "        vertical-align: top;\n",
              "    }\n",
              "\n",
              "    .dataframe thead th {\n",
              "        text-align: right;\n",
              "    }\n",
              "</style>\n",
              "<table border=\"1\" class=\"dataframe\">\n",
              "  <thead>\n",
              "    <tr style=\"text-align: right;\">\n",
              "      <th></th>\n",
              "      <th>Age</th>\n",
              "      <th>Income (USD)</th>\n",
              "      <th>Loan Amount Request (USD)</th>\n",
              "      <th>Current Loan Expenses (USD)</th>\n",
              "      <th>Dependents</th>\n",
              "      <th>Credit Score</th>\n",
              "      <th>No. of Defaults</th>\n",
              "      <th>Property ID</th>\n",
              "      <th>Property Age</th>\n",
              "      <th>Property Type</th>\n",
              "      <th>Co-Applicant</th>\n",
              "      <th>Property Price</th>\n",
              "      <th>Loan Sanction Amount (USD)</th>\n",
              "    </tr>\n",
              "  </thead>\n",
              "  <tbody>\n",
              "    <tr>\n",
              "      <th>count</th>\n",
              "      <td>30000.000000</td>\n",
              "      <td>2.542400e+04</td>\n",
              "      <td>30000.000000</td>\n",
              "      <td>29828.000000</td>\n",
              "      <td>27507.000000</td>\n",
              "      <td>28297.000000</td>\n",
              "      <td>30000.000000</td>\n",
              "      <td>30000.000000</td>\n",
              "      <td>2.515000e+04</td>\n",
              "      <td>30000.000000</td>\n",
              "      <td>30000.000000</td>\n",
              "      <td>3.000000e+04</td>\n",
              "      <td>29660.000000</td>\n",
              "    </tr>\n",
              "    <tr>\n",
              "      <th>mean</th>\n",
              "      <td>40.092300</td>\n",
              "      <td>2.630574e+03</td>\n",
              "      <td>88826.333855</td>\n",
              "      <td>400.936876</td>\n",
              "      <td>2.253027</td>\n",
              "      <td>739.885381</td>\n",
              "      <td>0.193933</td>\n",
              "      <td>501.934700</td>\n",
              "      <td>2.631119e+03</td>\n",
              "      <td>2.460067</td>\n",
              "      <td>-4.743867</td>\n",
              "      <td>1.317597e+05</td>\n",
              "      <td>47649.342208</td>\n",
              "    </tr>\n",
              "    <tr>\n",
              "      <th>std</th>\n",
              "      <td>16.045129</td>\n",
              "      <td>1.126272e+04</td>\n",
              "      <td>59536.949605</td>\n",
              "      <td>242.545375</td>\n",
              "      <td>0.951162</td>\n",
              "      <td>72.163846</td>\n",
              "      <td>0.395384</td>\n",
              "      <td>288.158086</td>\n",
              "      <td>1.132268e+04</td>\n",
              "      <td>1.118562</td>\n",
              "      <td>74.614593</td>\n",
              "      <td>9.354955e+04</td>\n",
              "      <td>48221.146686</td>\n",
              "    </tr>\n",
              "    <tr>\n",
              "      <th>min</th>\n",
              "      <td>18.000000</td>\n",
              "      <td>3.777000e+02</td>\n",
              "      <td>6048.240000</td>\n",
              "      <td>-999.000000</td>\n",
              "      <td>1.000000</td>\n",
              "      <td>580.000000</td>\n",
              "      <td>0.000000</td>\n",
              "      <td>1.000000</td>\n",
              "      <td>3.777000e+02</td>\n",
              "      <td>1.000000</td>\n",
              "      <td>-999.000000</td>\n",
              "      <td>-9.990000e+02</td>\n",
              "      <td>-999.000000</td>\n",
              "    </tr>\n",
              "    <tr>\n",
              "      <th>25%</th>\n",
              "      <td>25.000000</td>\n",
              "      <td>1.650457e+03</td>\n",
              "      <td>41177.755000</td>\n",
              "      <td>247.667500</td>\n",
              "      <td>2.000000</td>\n",
              "      <td>681.880000</td>\n",
              "      <td>0.000000</td>\n",
              "      <td>251.000000</td>\n",
              "      <td>1.650450e+03</td>\n",
              "      <td>1.000000</td>\n",
              "      <td>1.000000</td>\n",
              "      <td>6.057216e+04</td>\n",
              "      <td>0.000000</td>\n",
              "    </tr>\n",
              "    <tr>\n",
              "      <th>50%</th>\n",
              "      <td>40.000000</td>\n",
              "      <td>2.222435e+03</td>\n",
              "      <td>75128.075000</td>\n",
              "      <td>375.205000</td>\n",
              "      <td>2.000000</td>\n",
              "      <td>739.820000</td>\n",
              "      <td>0.000000</td>\n",
              "      <td>504.000000</td>\n",
              "      <td>2.223250e+03</td>\n",
              "      <td>2.000000</td>\n",
              "      <td>1.000000</td>\n",
              "      <td>1.099936e+05</td>\n",
              "      <td>35209.395000</td>\n",
              "    </tr>\n",
              "    <tr>\n",
              "      <th>75%</th>\n",
              "      <td>55.000000</td>\n",
              "      <td>3.090593e+03</td>\n",
              "      <td>119964.605000</td>\n",
              "      <td>521.292500</td>\n",
              "      <td>3.000000</td>\n",
              "      <td>799.120000</td>\n",
              "      <td>0.000000</td>\n",
              "      <td>751.000000</td>\n",
              "      <td>3.091407e+03</td>\n",
              "      <td>3.000000</td>\n",
              "      <td>1.000000</td>\n",
              "      <td>1.788807e+05</td>\n",
              "      <td>74261.250000</td>\n",
              "    </tr>\n",
              "    <tr>\n",
              "      <th>max</th>\n",
              "      <td>65.000000</td>\n",
              "      <td>1.777460e+06</td>\n",
              "      <td>621497.820000</td>\n",
              "      <td>3840.880000</td>\n",
              "      <td>14.000000</td>\n",
              "      <td>896.260000</td>\n",
              "      <td>1.000000</td>\n",
              "      <td>999.000000</td>\n",
              "      <td>1.777460e+06</td>\n",
              "      <td>4.000000</td>\n",
              "      <td>1.000000</td>\n",
              "      <td>1.077967e+06</td>\n",
              "      <td>481907.320000</td>\n",
              "    </tr>\n",
              "  </tbody>\n",
              "</table>\n",
              "</div>"
            ],
            "text/plain": [
              "                Age  Income (USD)  ...  Property Price  Loan Sanction Amount (USD)\n",
              "count  30000.000000  2.542400e+04  ...    3.000000e+04                29660.000000\n",
              "mean      40.092300  2.630574e+03  ...    1.317597e+05                47649.342208\n",
              "std       16.045129  1.126272e+04  ...    9.354955e+04                48221.146686\n",
              "min       18.000000  3.777000e+02  ...   -9.990000e+02                 -999.000000\n",
              "25%       25.000000  1.650457e+03  ...    6.057216e+04                    0.000000\n",
              "50%       40.000000  2.222435e+03  ...    1.099936e+05                35209.395000\n",
              "75%       55.000000  3.090593e+03  ...    1.788807e+05                74261.250000\n",
              "max       65.000000  1.777460e+06  ...    1.077967e+06               481907.320000\n",
              "\n",
              "[8 rows x 13 columns]"
            ]
          },
          "metadata": {
            "tags": []
          },
          "execution_count": 214
        }
      ]
    },
    {
      "cell_type": "code",
      "metadata": {
        "colab": {
          "base_uri": "https://localhost:8080/",
          "height": 1000
        },
        "id": "NbfYF45xSucx",
        "outputId": "e073384b-87b7-48e4-d680-d01750573004"
      },
      "source": [
        "train.hist(figsize=(25,18))"
      ],
      "execution_count": 215,
      "outputs": [
        {
          "output_type": "execute_result",
          "data": {
            "text/plain": [
              "array([[<matplotlib.axes._subplots.AxesSubplot object at 0x7fe96bb21190>,\n",
              "        <matplotlib.axes._subplots.AxesSubplot object at 0x7fe96c0c9110>,\n",
              "        <matplotlib.axes._subplots.AxesSubplot object at 0x7fe96c07a590>,\n",
              "        <matplotlib.axes._subplots.AxesSubplot object at 0x7fe96c02cb10>],\n",
              "       [<matplotlib.axes._subplots.AxesSubplot object at 0x7fe96bfec0d0>,\n",
              "        <matplotlib.axes._subplots.AxesSubplot object at 0x7fe96bfa2650>,\n",
              "        <matplotlib.axes._subplots.AxesSubplot object at 0x7fe96bfd6c50>,\n",
              "        <matplotlib.axes._subplots.AxesSubplot object at 0x7fe96bf19150>],\n",
              "       [<matplotlib.axes._subplots.AxesSubplot object at 0x7fe96bf19190>,\n",
              "        <matplotlib.axes._subplots.AxesSubplot object at 0x7fe96bf4d810>,\n",
              "        <matplotlib.axes._subplots.AxesSubplot object at 0x7fe96bec7250>,\n",
              "        <matplotlib.axes._subplots.AxesSubplot object at 0x7fe96be7a7d0>],\n",
              "       [<matplotlib.axes._subplots.AxesSubplot object at 0x7fe96be31d50>,\n",
              "        <matplotlib.axes._subplots.AxesSubplot object at 0x7fe96bdf4310>,\n",
              "        <matplotlib.axes._subplots.AxesSubplot object at 0x7fe96bd66890>,\n",
              "        <matplotlib.axes._subplots.AxesSubplot object at 0x7fe96bd1de10>]],\n",
              "      dtype=object)"
            ]
          },
          "metadata": {
            "tags": []
          },
          "execution_count": 215
        },
        {
          "output_type": "display_data",
          "data": {
            "image/png": "[encoded data removed]",
            "text/plain": [
              "<Figure size 1800x1296 with 16 Axes>"
            ]
          },
          "metadata": {
            "tags": [],
            "needs_background": "light"
          }
        }
      ]
    },
    {
      "cell_type": "code",
      "metadata": {
        "colab": {
          "base_uri": "https://localhost:8080/"
        },
        "id": "4zvr764LS0dT",
        "outputId": "d093867d-68d6-4bf1-fc45-50e4a6d36cb2"
      },
      "source": [
        "train.columns"
      ],
      "execution_count": 216,
      "outputs": [
        {
          "output_type": "execute_result",
          "data": {
            "text/plain": [
              "Index(['Customer ID', 'Name', 'Gender', 'Age', 'Income (USD)',\n",
              "       'Income Stability', 'Profession', 'Type of Employment', 'Location',\n",
              "       'Loan Amount Request (USD)', 'Current Loan Expenses (USD)',\n",
              "       'Expense Type 1', 'Expense Type 2', 'Dependents', 'Credit Score',\n",
              "       'No. of Defaults', 'Has Active Credit Card', 'Property ID',\n",
              "       'Property Age', 'Property Type', 'Property Location', 'Co-Applicant',\n",
              "       'Property Price', 'Loan Sanction Amount (USD)'],\n",
              "      dtype='object')"
            ]
          },
          "metadata": {
            "tags": []
          },
          "execution_count": 216
        }
      ]
    },
    {
      "cell_type": "code",
      "metadata": {
        "colab": {
          "base_uri": "https://localhost:8080/"
        },
        "id": "qUL3UDu7bCNJ",
        "outputId": "d98d8c54-6590-434d-88b8-86a2e4f8ded6"
      },
      "source": [
        "train.dtypes"
      ],
      "execution_count": 217,
      "outputs": [
        {
          "output_type": "execute_result",
          "data": {
            "text/plain": [
              "Customer ID                     object\n",
              "Name                            object\n",
              "Gender                          object\n",
              "Age                              int64\n",
              "Income (USD)                   float64\n",
              "Income Stability                object\n",
              "Profession                      object\n",
              "Type of Employment              object\n",
              "Location                        object\n",
              "Loan Amount Request (USD)      float64\n",
              "Current Loan Expenses (USD)    float64\n",
              "Expense Type 1                  object\n",
              "Expense Type 2                  object\n",
              "Dependents                     float64\n",
              "Credit Score                   float64\n",
              "No. of Defaults                  int64\n",
              "Has Active Credit Card          object\n",
              "Property ID                      int64\n",
              "Property Age                   float64\n",
              "Property Type                    int64\n",
              "Property Location               object\n",
              "Co-Applicant                     int64\n",
              "Property Price                 float64\n",
              "Loan Sanction Amount (USD)     float64\n",
              "dtype: object"
            ]
          },
          "metadata": {
            "tags": []
          },
          "execution_count": 217
        }
      ]
    },
    {
      "cell_type": "code",
      "metadata": {
        "id": "lDxCsnzCUbxo"
      },
      "source": [
        "id_cols = ['Customer ID', 'Name']\n",
        "target_col = ['Loan Sanction Amount (USD)']\n",
        "numerical_cols =[]\n",
        "object_cols = []"
      ],
      "execution_count": 218,
      "outputs": []
    },
    {
      "cell_type": "code",
      "metadata": {
        "id": "Ai2iK73ZUtnM"
      },
      "source": [
        "for col in train.columns:\n",
        "  col_type = train[col].dtypes\n",
        "  if col not in id_cols+target_col:\n",
        "    if str(col_type)==\"object\":\n",
        "      object_cols.append(col)\n",
        "    elif str(col_type) in [\"float64\", \"int64\", \"float32\", \"int32\"] and train[col].nunique()>20:\n",
        "      numerical_cols.append(col)\n",
        "    elif str(col_type) in [\"float64\", \"int64\", \"float32\", \"int32\"] and train[col].nunique()<=20:\n",
        "      object_cols.append(col)"
      ],
      "execution_count": 219,
      "outputs": []
    },
    {
      "cell_type": "code",
      "metadata": {
        "colab": {
          "base_uri": "https://localhost:8080/"
        },
        "id": "NTItz79aUzxf",
        "outputId": "956565f3-5365-4f74-99b5-f12229892b59"
      },
      "source": [
        "id_cols, target_col, object_cols, numerical_cols"
      ],
      "execution_count": 220,
      "outputs": [
        {
          "output_type": "execute_result",
          "data": {
            "text/plain": [
              "(['Customer ID', 'Name'],\n",
              " ['Loan Sanction Amount (USD)'],\n",
              " ['Gender',\n",
              "  'Income Stability',\n",
              "  'Profession',\n",
              "  'Type of Employment',\n",
              "  'Location',\n",
              "  'Expense Type 1',\n",
              "  'Expense Type 2',\n",
              "  'Dependents',\n",
              "  'No. of Defaults',\n",
              "  'Has Active Credit Card',\n",
              "  'Property Type',\n",
              "  'Property Location',\n",
              "  'Co-Applicant'],\n",
              " ['Age',\n",
              "  'Income (USD)',\n",
              "  'Loan Amount Request (USD)',\n",
              "  'Current Loan Expenses (USD)',\n",
              "  'Credit Score',\n",
              "  'Property ID',\n",
              "  'Property Age',\n",
              "  'Property Price'])"
            ]
          },
          "metadata": {
            "tags": []
          },
          "execution_count": 220
        }
      ]
    },
    {
      "cell_type": "code",
      "metadata": {
        "id": "fwi9oN1fmW1Q"
      },
      "source": [
        "train.replace('?', np.nan, inplace=True)\n",
        "test.replace('?', np.nan, inplace=True)"
      ],
      "execution_count": 222,
      "outputs": []
    },
    {
      "cell_type": "code",
      "metadata": {
        "colab": {
          "base_uri": "https://localhost:8080/"
        },
        "id": "ncrnu3-0k5yT",
        "outputId": "904ca24a-0bd1-4bb5-bb59-90d2c307e548"
      },
      "source": [
        "################## change columns data type for train and test datasets ################################\n",
        "def change_col_type(df):\n",
        "  for col in numerical_cols:\n",
        "    print(col)\n",
        "    if df[col].dtypes in ['int64', 'int32']:\n",
        "      df[col] = df[col].astype(int)\n",
        "    else:\n",
        "      df[col] = df[col].astype(float)\n",
        "\n",
        "  for col in object_cols:\n",
        "    print(col)\n",
        "    df[col] = df[col].astype(str)\n",
        "  \n",
        "  return df\n",
        "\n",
        "train = change_col_type(train)\n",
        "test = change_col_type(test)"
      ],
      "execution_count": 223,
      "outputs": [
        {
          "output_type": "stream",
          "text": [
            "Age\n",
            "Income (USD)\n",
            "Loan Amount Request (USD)\n",
            "Current Loan Expenses (USD)\n",
            "Credit Score\n",
            "Property ID\n",
            "Property Age\n",
            "Property Price\n",
            "Gender\n",
            "Income Stability\n",
            "Profession\n",
            "Type of Employment\n",
            "Location\n",
            "Expense Type 1\n",
            "Expense Type 2\n",
            "Dependents\n",
            "No. of Defaults\n",
            "Has Active Credit Card\n",
            "Property Type\n",
            "Property Location\n",
            "Co-Applicant\n",
            "Age\n",
            "Income (USD)\n",
            "Loan Amount Request (USD)\n",
            "Current Loan Expenses (USD)\n",
            "Credit Score\n",
            "Property ID\n",
            "Property Age\n",
            "Property Price\n",
            "Gender\n",
            "Income Stability\n",
            "Profession\n",
            "Type of Employment\n",
            "Location\n",
            "Expense Type 1\n",
            "Expense Type 2\n",
            "Dependents\n",
            "No. of Defaults\n",
            "Has Active Credit Card\n",
            "Property Type\n",
            "Property Location\n",
            "Co-Applicant\n"
          ],
          "name": "stdout"
        }
      ]
    },
    {
      "cell_type": "code",
      "metadata": {
        "id": "2W5YIk6lVYxU"
      },
      "source": [
        "############################# check the values in the target variable############################"
      ],
      "execution_count": 224,
      "outputs": []
    },
    {
      "cell_type": "code",
      "metadata": {
        "colab": {
          "base_uri": "https://localhost:8080/",
          "height": 880
        },
        "id": "bWUgq3mSVhdZ",
        "outputId": "616151cc-522b-420a-9e80-378f47e12fda"
      },
      "source": [
        "train['Loan Sanction Amount (USD)'].hist(figsize=(15,15), bins=10)"
      ],
      "execution_count": 225,
      "outputs": [
        {
          "output_type": "execute_result",
          "data": {
            "text/plain": [
              "<matplotlib.axes._subplots.AxesSubplot at 0x7fe96b5007d0>"
            ]
          },
          "metadata": {
            "tags": []
          },
          "execution_count": 225
        },
        {
          "output_type": "display_data",
          "data": {
            "image/png": "[encoded data removed]",
            "text/plain": [
              "<Figure size 1080x1080 with 1 Axes>"
            ]
          },
          "metadata": {
            "tags": [],
            "needs_background": "light"
          }
        }
      ]
    },
    {
      "cell_type": "code",
      "metadata": {
        "colab": {
          "base_uri": "https://localhost:8080/"
        },
        "id": "fFMPj0FxVqrm",
        "outputId": "eedb518f-d0fa-4932-c58e-f5cf3229c442"
      },
      "source": [
        "train.shape"
      ],
      "execution_count": 226,
      "outputs": [
        {
          "output_type": "execute_result",
          "data": {
            "text/plain": [
              "(30000, 24)"
            ]
          },
          "metadata": {
            "tags": []
          },
          "execution_count": 226
        }
      ]
    },
    {
      "cell_type": "code",
      "metadata": {
        "colab": {
          "base_uri": "https://localhost:8080/"
        },
        "id": "pD4p7EUXWO6y",
        "outputId": "d1f89c08-872a-4bd3-9e8b-3e56e3578dbb"
      },
      "source": [
        "print(f\" out of total observation in the train dataset {train['Loan Sanction Amount (USD)'].isnull().sum()} values are null\")"
      ],
      "execution_count": 227,
      "outputs": [
        {
          "output_type": "stream",
          "text": [
            " out of total observation in the train dataset 340 values are null\n"
          ],
          "name": "stdout"
        }
      ]
    },
    {
      "cell_type": "code",
      "metadata": {
        "colab": {
          "base_uri": "https://localhost:8080/",
          "height": 660
        },
        "id": "bb9DZ1KMV07V",
        "outputId": "aa54c394-0bff-4c65-9fc6-36bb9331216a"
      },
      "source": [
        "train[train['Loan Sanction Amount (USD)'].isnull()]"
      ],
      "execution_count": 228,
      "outputs": [
        {
          "output_type": "execute_result",
          "data": {
            "text/html": [
              "<div>\n",
              "<style scoped>\n",
              "    .dataframe tbody tr th:only-of-type {\n",
              "        vertical-align: middle;\n",
              "    }\n",
              "\n",
              "    .dataframe tbody tr th {\n",
              "        vertical-align: top;\n",
              "    }\n",
              "\n",
              "    .dataframe thead th {\n",
              "        text-align: right;\n",
              "    }\n",
              "</style>\n",
              "<table border=\"1\" class=\"dataframe\">\n",
              "  <thead>\n",
              "    <tr style=\"text-align: right;\">\n",
              "      <th></th>\n",
              "      <th>Customer ID</th>\n",
              "      <th>Name</th>\n",
              "      <th>Gender</th>\n",
              "      <th>Age</th>\n",
              "      <th>Income (USD)</th>\n",
              "      <th>Income Stability</th>\n",
              "      <th>Profession</th>\n",
              "      <th>Type of Employment</th>\n",
              "      <th>Location</th>\n",
              "      <th>Loan Amount Request (USD)</th>\n",
              "      <th>Current Loan Expenses (USD)</th>\n",
              "      <th>Expense Type 1</th>\n",
              "      <th>Expense Type 2</th>\n",
              "      <th>Dependents</th>\n",
              "      <th>Credit Score</th>\n",
              "      <th>No. of Defaults</th>\n",
              "      <th>Has Active Credit Card</th>\n",
              "      <th>Property ID</th>\n",
              "      <th>Property Age</th>\n",
              "      <th>Property Type</th>\n",
              "      <th>Property Location</th>\n",
              "      <th>Co-Applicant</th>\n",
              "      <th>Property Price</th>\n",
              "      <th>Loan Sanction Amount (USD)</th>\n",
              "    </tr>\n",
              "  </thead>\n",
              "  <tbody>\n",
              "    <tr>\n",
              "      <th>108</th>\n",
              "      <td>C-14817</td>\n",
              "      <td>Deborah Polen</td>\n",
              "      <td>M</td>\n",
              "      <td>36</td>\n",
              "      <td>NaN</td>\n",
              "      <td>Low</td>\n",
              "      <td>Commercial associate</td>\n",
              "      <td>Laborers</td>\n",
              "      <td>Rural</td>\n",
              "      <td>58353.58</td>\n",
              "      <td>474.24</td>\n",
              "      <td>N</td>\n",
              "      <td>Y</td>\n",
              "      <td>1.0</td>\n",
              "      <td>670.61</td>\n",
              "      <td>0</td>\n",
              "      <td>Unpossessed</td>\n",
              "      <td>817</td>\n",
              "      <td>NaN</td>\n",
              "      <td>1</td>\n",
              "      <td>Urban</td>\n",
              "      <td>1</td>\n",
              "      <td>80524.30</td>\n",
              "      <td>NaN</td>\n",
              "    </tr>\n",
              "    <tr>\n",
              "      <th>114</th>\n",
              "      <td>C-24508</td>\n",
              "      <td>Minerva Saltzman</td>\n",
              "      <td>F</td>\n",
              "      <td>62</td>\n",
              "      <td>2573.03</td>\n",
              "      <td>Low</td>\n",
              "      <td>Commercial associate</td>\n",
              "      <td>Laborers</td>\n",
              "      <td>Rural</td>\n",
              "      <td>136992.15</td>\n",
              "      <td>395.22</td>\n",
              "      <td>Y</td>\n",
              "      <td>Y</td>\n",
              "      <td>3.0</td>\n",
              "      <td>701.49</td>\n",
              "      <td>1</td>\n",
              "      <td>Unpossessed</td>\n",
              "      <td>634</td>\n",
              "      <td>2573.03</td>\n",
              "      <td>2</td>\n",
              "      <td>Rural</td>\n",
              "      <td>1</td>\n",
              "      <td>251217.10</td>\n",
              "      <td>NaN</td>\n",
              "    </tr>\n",
              "    <tr>\n",
              "      <th>290</th>\n",
              "      <td>C-18811</td>\n",
              "      <td>Gina Domenech</td>\n",
              "      <td>M</td>\n",
              "      <td>62</td>\n",
              "      <td>681.87</td>\n",
              "      <td>High</td>\n",
              "      <td>Pensioner</td>\n",
              "      <td>nan</td>\n",
              "      <td>Semi-Urban</td>\n",
              "      <td>71468.48</td>\n",
              "      <td>363.55</td>\n",
              "      <td>N</td>\n",
              "      <td>Y</td>\n",
              "      <td>2.0</td>\n",
              "      <td>781.43</td>\n",
              "      <td>0</td>\n",
              "      <td>Unpossessed</td>\n",
              "      <td>787</td>\n",
              "      <td>681.87</td>\n",
              "      <td>2</td>\n",
              "      <td>Semi-Urban</td>\n",
              "      <td>0</td>\n",
              "      <td>123365.57</td>\n",
              "      <td>NaN</td>\n",
              "    </tr>\n",
              "    <tr>\n",
              "      <th>322</th>\n",
              "      <td>C-15078</td>\n",
              "      <td>Laurette Allsup</td>\n",
              "      <td>M</td>\n",
              "      <td>18</td>\n",
              "      <td>1813.77</td>\n",
              "      <td>Low</td>\n",
              "      <td>Working</td>\n",
              "      <td>Sales staff</td>\n",
              "      <td>Semi-Urban</td>\n",
              "      <td>71220.19</td>\n",
              "      <td>692.22</td>\n",
              "      <td>N</td>\n",
              "      <td>Y</td>\n",
              "      <td>3.0</td>\n",
              "      <td>750.06</td>\n",
              "      <td>0</td>\n",
              "      <td>Unpossessed</td>\n",
              "      <td>407</td>\n",
              "      <td>1813.77</td>\n",
              "      <td>2</td>\n",
              "      <td>Semi-Urban</td>\n",
              "      <td>1</td>\n",
              "      <td>134313.15</td>\n",
              "      <td>NaN</td>\n",
              "    </tr>\n",
              "    <tr>\n",
              "      <th>421</th>\n",
              "      <td>C-17364</td>\n",
              "      <td>Sherwood Lesniak</td>\n",
              "      <td>M</td>\n",
              "      <td>18</td>\n",
              "      <td>5203.03</td>\n",
              "      <td>Low</td>\n",
              "      <td>Commercial associate</td>\n",
              "      <td>Managers</td>\n",
              "      <td>Semi-Urban</td>\n",
              "      <td>157747.73</td>\n",
              "      <td>760.10</td>\n",
              "      <td>Y</td>\n",
              "      <td>Y</td>\n",
              "      <td>2.0</td>\n",
              "      <td>717.93</td>\n",
              "      <td>0</td>\n",
              "      <td>Inactive</td>\n",
              "      <td>890</td>\n",
              "      <td>5203.03</td>\n",
              "      <td>2</td>\n",
              "      <td>Semi-Urban</td>\n",
              "      <td>1</td>\n",
              "      <td>260733.29</td>\n",
              "      <td>NaN</td>\n",
              "    </tr>\n",
              "    <tr>\n",
              "      <th>...</th>\n",
              "      <td>...</td>\n",
              "      <td>...</td>\n",
              "      <td>...</td>\n",
              "      <td>...</td>\n",
              "      <td>...</td>\n",
              "      <td>...</td>\n",
              "      <td>...</td>\n",
              "      <td>...</td>\n",
              "      <td>...</td>\n",
              "      <td>...</td>\n",
              "      <td>...</td>\n",
              "      <td>...</td>\n",
              "      <td>...</td>\n",
              "      <td>...</td>\n",
              "      <td>...</td>\n",
              "      <td>...</td>\n",
              "      <td>...</td>\n",
              "      <td>...</td>\n",
              "      <td>...</td>\n",
              "      <td>...</td>\n",
              "      <td>...</td>\n",
              "      <td>...</td>\n",
              "      <td>...</td>\n",
              "      <td>...</td>\n",
              "    </tr>\n",
              "    <tr>\n",
              "      <th>29834</th>\n",
              "      <td>C-3082</td>\n",
              "      <td>Nichelle Whitcomb</td>\n",
              "      <td>M</td>\n",
              "      <td>44</td>\n",
              "      <td>4948.86</td>\n",
              "      <td>nan</td>\n",
              "      <td>State servant</td>\n",
              "      <td>Core staff</td>\n",
              "      <td>Semi-Urban</td>\n",
              "      <td>173769.72</td>\n",
              "      <td>584.84</td>\n",
              "      <td>Y</td>\n",
              "      <td>Y</td>\n",
              "      <td>3.0</td>\n",
              "      <td>761.54</td>\n",
              "      <td>0</td>\n",
              "      <td>Active</td>\n",
              "      <td>168</td>\n",
              "      <td>4948.86</td>\n",
              "      <td>3</td>\n",
              "      <td>Rural</td>\n",
              "      <td>1</td>\n",
              "      <td>319712.95</td>\n",
              "      <td>NaN</td>\n",
              "    </tr>\n",
              "    <tr>\n",
              "      <th>29866</th>\n",
              "      <td>C-25182</td>\n",
              "      <td>Genevieve Vanatta</td>\n",
              "      <td>M</td>\n",
              "      <td>18</td>\n",
              "      <td>3090.14</td>\n",
              "      <td>Low</td>\n",
              "      <td>Working</td>\n",
              "      <td>nan</td>\n",
              "      <td>Semi-Urban</td>\n",
              "      <td>105878.07</td>\n",
              "      <td>842.49</td>\n",
              "      <td>N</td>\n",
              "      <td>Y</td>\n",
              "      <td>4.0</td>\n",
              "      <td>775.49</td>\n",
              "      <td>0</td>\n",
              "      <td>Unpossessed</td>\n",
              "      <td>740</td>\n",
              "      <td>3090.14</td>\n",
              "      <td>2</td>\n",
              "      <td>Semi-Urban</td>\n",
              "      <td>1</td>\n",
              "      <td>133391.83</td>\n",
              "      <td>NaN</td>\n",
              "    </tr>\n",
              "    <tr>\n",
              "      <th>29936</th>\n",
              "      <td>C-11631</td>\n",
              "      <td>Edna Jelley</td>\n",
              "      <td>F</td>\n",
              "      <td>54</td>\n",
              "      <td>NaN</td>\n",
              "      <td>Low</td>\n",
              "      <td>Working</td>\n",
              "      <td>Core staff</td>\n",
              "      <td>Semi-Urban</td>\n",
              "      <td>79030.18</td>\n",
              "      <td>252.09</td>\n",
              "      <td>Y</td>\n",
              "      <td>N</td>\n",
              "      <td>nan</td>\n",
              "      <td>698.49</td>\n",
              "      <td>0</td>\n",
              "      <td>Active</td>\n",
              "      <td>150</td>\n",
              "      <td>NaN</td>\n",
              "      <td>3</td>\n",
              "      <td>Semi-Urban</td>\n",
              "      <td>1</td>\n",
              "      <td>104437.78</td>\n",
              "      <td>NaN</td>\n",
              "    </tr>\n",
              "    <tr>\n",
              "      <th>29944</th>\n",
              "      <td>C-9552</td>\n",
              "      <td>Jonathon Leitner</td>\n",
              "      <td>F</td>\n",
              "      <td>36</td>\n",
              "      <td>1572.88</td>\n",
              "      <td>Low</td>\n",
              "      <td>Commercial associate</td>\n",
              "      <td>nan</td>\n",
              "      <td>Rural</td>\n",
              "      <td>176348.06</td>\n",
              "      <td>621.61</td>\n",
              "      <td>N</td>\n",
              "      <td>N</td>\n",
              "      <td>3.0</td>\n",
              "      <td>662.81</td>\n",
              "      <td>0</td>\n",
              "      <td>Unpossessed</td>\n",
              "      <td>176</td>\n",
              "      <td>1572.88</td>\n",
              "      <td>3</td>\n",
              "      <td>Rural</td>\n",
              "      <td>1</td>\n",
              "      <td>307855.67</td>\n",
              "      <td>NaN</td>\n",
              "    </tr>\n",
              "    <tr>\n",
              "      <th>29959</th>\n",
              "      <td>C-431</td>\n",
              "      <td>Sharita Cha</td>\n",
              "      <td>F</td>\n",
              "      <td>27</td>\n",
              "      <td>2114.37</td>\n",
              "      <td>Low</td>\n",
              "      <td>Working</td>\n",
              "      <td>Core staff</td>\n",
              "      <td>Semi-Urban</td>\n",
              "      <td>29642.40</td>\n",
              "      <td>136.55</td>\n",
              "      <td>Y</td>\n",
              "      <td>N</td>\n",
              "      <td>2.0</td>\n",
              "      <td>644.84</td>\n",
              "      <td>1</td>\n",
              "      <td>Unpossessed</td>\n",
              "      <td>168</td>\n",
              "      <td>2114.37</td>\n",
              "      <td>3</td>\n",
              "      <td>Rural</td>\n",
              "      <td>0</td>\n",
              "      <td>41135.23</td>\n",
              "      <td>NaN</td>\n",
              "    </tr>\n",
              "  </tbody>\n",
              "</table>\n",
              "<p>340 rows × 24 columns</p>\n",
              "</div>"
            ],
            "text/plain": [
              "      Customer ID  ... Loan Sanction Amount (USD)\n",
              "108       C-14817  ...                        NaN\n",
              "114       C-24508  ...                        NaN\n",
              "290       C-18811  ...                        NaN\n",
              "322       C-15078  ...                        NaN\n",
              "421       C-17364  ...                        NaN\n",
              "...           ...  ...                        ...\n",
              "29834      C-3082  ...                        NaN\n",
              "29866     C-25182  ...                        NaN\n",
              "29936     C-11631  ...                        NaN\n",
              "29944      C-9552  ...                        NaN\n",
              "29959       C-431  ...                        NaN\n",
              "\n",
              "[340 rows x 24 columns]"
            ]
          },
          "metadata": {
            "tags": []
          },
          "execution_count": 228
        }
      ]
    },
    {
      "cell_type": "code",
      "metadata": {
        "id": "bacnB1cAV51y"
      },
      "source": [
        "train = train[train['Loan Sanction Amount (USD)'].notna()]"
      ],
      "execution_count": 229,
      "outputs": []
    },
    {
      "cell_type": "code",
      "metadata": {
        "colab": {
          "base_uri": "https://localhost:8080/"
        },
        "id": "bfuOEiDKWUrD",
        "outputId": "3ef1d706-4aff-4d72-ad2a-a1c64637eb78"
      },
      "source": [
        "train['Loan Sanction Amount (USD)'].isnull().sum()"
      ],
      "execution_count": 230,
      "outputs": [
        {
          "output_type": "execute_result",
          "data": {
            "text/plain": [
              "0"
            ]
          },
          "metadata": {
            "tags": []
          },
          "execution_count": 230
        }
      ]
    },
    {
      "cell_type": "code",
      "metadata": {
        "id": "VwuyXTYrWXh7"
      },
      "source": [
        "######################## Data treatment for the numerical features #####################################"
      ],
      "execution_count": 231,
      "outputs": []
    },
    {
      "cell_type": "code",
      "metadata": {
        "id": "K47RMbgzW9dy"
      },
      "source": [
        "missing_numeric_dict={}\n",
        "missing_object_dict={}\n",
        "for col in numerical_cols:\n",
        "  missing_numeric_dict[col] = {col+\"_mean\": train[col].mean(), col+\"_median\":train[col].median()}\n",
        "\n",
        "for col in object_cols:\n",
        "  missing_object_dict[col] = train[col].mode()[0]"
      ],
      "execution_count": 232,
      "outputs": []
    },
    {
      "cell_type": "code",
      "metadata": {
        "colab": {
          "base_uri": "https://localhost:8080/"
        },
        "id": "dDfQFevKYDrY",
        "outputId": "318ec45a-2c03-4c64-d89a-b0dbadde9865"
      },
      "source": [
        "missing_numeric_dict"
      ],
      "execution_count": 233,
      "outputs": [
        {
          "output_type": "execute_result",
          "data": {
            "text/plain": [
              "{'Age': {'Age_mean': 40.09922454484154, 'Age_median': 40.0},\n",
              " 'Credit Score': {'Credit Score_mean': 739.85347481243,\n",
              "  'Credit Score_median': 739.815},\n",
              " 'Current Loan Expenses (USD)': {'Current Loan Expenses (USD)_mean': 400.89375241582565,\n",
              "  'Current Loan Expenses (USD)_median': 375.09},\n",
              " 'Income (USD)': {'Income (USD)_mean': 2630.990562641566,\n",
              "  'Income (USD)_median': 2223.3},\n",
              " 'Loan Amount Request (USD)': {'Loan Amount Request (USD)_mean': 88792.0572737683,\n",
              "  'Loan Amount Request (USD)_median': 75114.08499999999},\n",
              " 'Property Age': {'Property Age_mean': 2631.317284738969,\n",
              "  'Property Age_median': 2223.965},\n",
              " 'Property ID': {'Property ID_mean': 501.88182737693865,\n",
              "  'Property ID_median': 504.0},\n",
              " 'Property Price': {'Property Price_mean': 131733.51717026386,\n",
              "  'Property Price_median': 109993.61}}"
            ]
          },
          "metadata": {
            "tags": []
          },
          "execution_count": 233
        }
      ]
    },
    {
      "cell_type": "code",
      "metadata": {
        "colab": {
          "base_uri": "https://localhost:8080/"
        },
        "id": "NjO_rZA1YFLr",
        "outputId": "441cd746-0f2d-486c-bb17-d2b34ba908ef"
      },
      "source": [
        "missing_object_dict"
      ],
      "execution_count": 234,
      "outputs": [
        {
          "output_type": "execute_result",
          "data": {
            "text/plain": [
              "{'Co-Applicant': '1',\n",
              " 'Dependents': '2.0',\n",
              " 'Expense Type 1': 'N',\n",
              " 'Expense Type 2': 'Y',\n",
              " 'Gender': 'M',\n",
              " 'Has Active Credit Card': 'Active',\n",
              " 'Income Stability': 'Low',\n",
              " 'Location': 'Semi-Urban',\n",
              " 'No. of Defaults': '0',\n",
              " 'Profession': 'Working',\n",
              " 'Property Location': 'Semi-Urban',\n",
              " 'Property Type': '1',\n",
              " 'Type of Employment': 'nan'}"
            ]
          },
          "metadata": {
            "tags": []
          },
          "execution_count": 234
        }
      ]
    },
    {
      "cell_type": "code",
      "metadata": {
        "id": "hBt-0PTFYGxl"
      },
      "source": [
        "################## impute missing values in the dataframe ######################"
      ],
      "execution_count": 235,
      "outputs": []
    },
    {
      "cell_type": "code",
      "metadata": {
        "colab": {
          "base_uri": "https://localhost:8080/"
        },
        "id": "D8IczRiCY6sx",
        "outputId": "030c842b-66ab-4360-ab79-0b581ec68cfe"
      },
      "source": [
        "def missing_transform_numeric(df):\n",
        "  for col in numerical_cols:\n",
        "    print(col, missing_numeric_dict[col][col+\"_median\"])\n",
        "    df[col].fillna(missing_numeric_dict[col][col+\"_median\"], inplace=True)\n",
        "  return df\n",
        "\n",
        "def missing_transform_object(df):\n",
        "  for col in object_cols:\n",
        "    print(col, missing_object_dict[col])\n",
        "    df[col].fillna(missing_object_dict[col], inplace=True)\n",
        "  return df\n",
        "\n",
        "train_treated = missing_transform_numeric(train.copy())\n",
        "train_treated = missing_transform_object(train_treated)"
      ],
      "execution_count": 236,
      "outputs": [
        {
          "output_type": "stream",
          "text": [
            "Age 40.0\n",
            "Income (USD) 2223.3\n",
            "Loan Amount Request (USD) 75114.08499999999\n",
            "Current Loan Expenses (USD) 375.09\n",
            "Credit Score 739.815\n",
            "Property ID 504.0\n",
            "Property Age 2223.965\n",
            "Property Price 109993.61\n",
            "Gender M\n",
            "Income Stability Low\n",
            "Profession Working\n",
            "Type of Employment nan\n",
            "Location Semi-Urban\n",
            "Expense Type 1 N\n",
            "Expense Type 2 Y\n",
            "Dependents 2.0\n",
            "No. of Defaults 0\n",
            "Has Active Credit Card Active\n",
            "Property Type 1\n",
            "Property Location Semi-Urban\n",
            "Co-Applicant 1\n"
          ],
          "name": "stdout"
        }
      ]
    },
    {
      "cell_type": "code",
      "metadata": {
        "colab": {
          "base_uri": "https://localhost:8080/"
        },
        "id": "QKSPFOe7aBDy",
        "outputId": "32d4f8be-0c52-4c37-fa4b-90c9b4f6e0dd"
      },
      "source": [
        "train_treated.isnull().sum()"
      ],
      "execution_count": 237,
      "outputs": [
        {
          "output_type": "execute_result",
          "data": {
            "text/plain": [
              "Customer ID                    0\n",
              "Name                           0\n",
              "Gender                         0\n",
              "Age                            0\n",
              "Income (USD)                   0\n",
              "Income Stability               0\n",
              "Profession                     0\n",
              "Type of Employment             0\n",
              "Location                       0\n",
              "Loan Amount Request (USD)      0\n",
              "Current Loan Expenses (USD)    0\n",
              "Expense Type 1                 0\n",
              "Expense Type 2                 0\n",
              "Dependents                     0\n",
              "Credit Score                   0\n",
              "No. of Defaults                0\n",
              "Has Active Credit Card         0\n",
              "Property ID                    0\n",
              "Property Age                   0\n",
              "Property Type                  0\n",
              "Property Location              0\n",
              "Co-Applicant                   0\n",
              "Property Price                 0\n",
              "Loan Sanction Amount (USD)     0\n",
              "dtype: int64"
            ]
          },
          "metadata": {
            "tags": []
          },
          "execution_count": 237
        }
      ]
    },
    {
      "cell_type": "code",
      "metadata": {
        "id": "XAtk0ml6aj40"
      },
      "source": [
        "################### outlier detection and treatment ####################################"
      ],
      "execution_count": 238,
      "outputs": []
    },
    {
      "cell_type": "code",
      "metadata": {
        "id": "zRlo8JPScAGs"
      },
      "source": [
        "outlier_dict = {}\n",
        "def fit_outlier(df):\n",
        "  for col in numerical_cols:\n",
        "    low = df[col].quantile(0.01)\n",
        "    high = df[col].quantile(0.99)\n",
        "    outlier_dict[col] = {\"low\":low, \"high\":high}\n",
        "\n",
        "fit_outlier(train_treated)"
      ],
      "execution_count": 239,
      "outputs": []
    },
    {
      "cell_type": "code",
      "metadata": {
        "colab": {
          "base_uri": "https://localhost:8080/"
        },
        "id": "n5yaBYTtdryU",
        "outputId": "81a4fc9f-c714-4ff3-f158-c4e7b36ed8f7"
      },
      "source": [
        "outlier_dict"
      ],
      "execution_count": 240,
      "outputs": [
        {
          "output_type": "execute_result",
          "data": {
            "text/plain": [
              "{'Age': {'high': 65.0, 'low': 18.0},\n",
              " 'Credit Score': {'high': 873.25, 'low': 600.5936},\n",
              " 'Current Loan Expenses (USD)': {'high': 1048.2223, 'low': 76.4618},\n",
              " 'Income (USD)': {'high': 7023.443599999999, 'low': 787.155},\n",
              " 'Loan Amount Request (USD)': {'high': 275793.7551, 'low': 12050.6292},\n",
              " 'Property Age': {'high': 7008.0545, 'low': 791.4593},\n",
              " 'Property ID': {'high': 989.0, 'low': 11.0},\n",
              " 'Property Price': {'high': 436441.52209999994, 'low': -999.0}}"
            ]
          },
          "metadata": {
            "tags": []
          },
          "execution_count": 240
        }
      ]
    },
    {
      "cell_type": "code",
      "metadata": {
        "colab": {
          "base_uri": "https://localhost:8080/"
        },
        "id": "WiiRcapwdsvf",
        "outputId": "ffc98256-b305-414f-afa3-ed2d0d46328e"
      },
      "source": [
        "def transform_outlier(df):\n",
        "  for col in numerical_cols:\n",
        "    print(col)\n",
        "    df[col] = np.where(df[col]<outlier_dict[col][\"low\"],outlier_dict[col][\"low\"], df[col])\n",
        "    df[col] = np.where(df[col]>outlier_dict[col][\"high\"],outlier_dict[col][\"high\"], df[col])\n",
        "  return df\n",
        "\n",
        "train_treated_outlier = transform_outlier(train_treated)"
      ],
      "execution_count": 241,
      "outputs": [
        {
          "output_type": "stream",
          "text": [
            "Age\n",
            "Income (USD)\n",
            "Loan Amount Request (USD)\n",
            "Current Loan Expenses (USD)\n",
            "Credit Score\n",
            "Property ID\n",
            "Property Age\n",
            "Property Price\n"
          ],
          "name": "stdout"
        }
      ]
    },
    {
      "cell_type": "code",
      "metadata": {
        "colab": {
          "base_uri": "https://localhost:8080/",
          "height": 360
        },
        "id": "JR_2V0lkeSwq",
        "outputId": "84b632d6-a188-430b-b92d-941157073c98"
      },
      "source": [
        "train_treated.head()"
      ],
      "execution_count": 242,
      "outputs": [
        {
          "output_type": "execute_result",
          "data": {
            "text/html": [
              "<div>\n",
              "<style scoped>\n",
              "    .dataframe tbody tr th:only-of-type {\n",
              "        vertical-align: middle;\n",
              "    }\n",
              "\n",
              "    .dataframe tbody tr th {\n",
              "        vertical-align: top;\n",
              "    }\n",
              "\n",
              "    .dataframe thead th {\n",
              "        text-align: right;\n",
              "    }\n",
              "</style>\n",
              "<table border=\"1\" class=\"dataframe\">\n",
              "  <thead>\n",
              "    <tr style=\"text-align: right;\">\n",
              "      <th></th>\n",
              "      <th>Customer ID</th>\n",
              "      <th>Name</th>\n",
              "      <th>Gender</th>\n",
              "      <th>Age</th>\n",
              "      <th>Income (USD)</th>\n",
              "      <th>Income Stability</th>\n",
              "      <th>Profession</th>\n",
              "      <th>Type of Employment</th>\n",
              "      <th>Location</th>\n",
              "      <th>Loan Amount Request (USD)</th>\n",
              "      <th>Current Loan Expenses (USD)</th>\n",
              "      <th>Expense Type 1</th>\n",
              "      <th>Expense Type 2</th>\n",
              "      <th>Dependents</th>\n",
              "      <th>Credit Score</th>\n",
              "      <th>No. of Defaults</th>\n",
              "      <th>Has Active Credit Card</th>\n",
              "      <th>Property ID</th>\n",
              "      <th>Property Age</th>\n",
              "      <th>Property Type</th>\n",
              "      <th>Property Location</th>\n",
              "      <th>Co-Applicant</th>\n",
              "      <th>Property Price</th>\n",
              "      <th>Loan Sanction Amount (USD)</th>\n",
              "    </tr>\n",
              "  </thead>\n",
              "  <tbody>\n",
              "    <tr>\n",
              "      <th>0</th>\n",
              "      <td>C-36995</td>\n",
              "      <td>Frederica Shealy</td>\n",
              "      <td>F</td>\n",
              "      <td>56.0</td>\n",
              "      <td>1933.05</td>\n",
              "      <td>Low</td>\n",
              "      <td>Working</td>\n",
              "      <td>Sales staff</td>\n",
              "      <td>Semi-Urban</td>\n",
              "      <td>72809.58</td>\n",
              "      <td>241.08</td>\n",
              "      <td>N</td>\n",
              "      <td>N</td>\n",
              "      <td>3.0</td>\n",
              "      <td>809.44</td>\n",
              "      <td>0</td>\n",
              "      <td>nan</td>\n",
              "      <td>746.0</td>\n",
              "      <td>1933.050</td>\n",
              "      <td>4</td>\n",
              "      <td>Rural</td>\n",
              "      <td>1</td>\n",
              "      <td>119933.46</td>\n",
              "      <td>54607.18</td>\n",
              "    </tr>\n",
              "    <tr>\n",
              "      <th>1</th>\n",
              "      <td>C-33999</td>\n",
              "      <td>America Calderone</td>\n",
              "      <td>M</td>\n",
              "      <td>32.0</td>\n",
              "      <td>4952.91</td>\n",
              "      <td>Low</td>\n",
              "      <td>Working</td>\n",
              "      <td>nan</td>\n",
              "      <td>Semi-Urban</td>\n",
              "      <td>46837.47</td>\n",
              "      <td>495.81</td>\n",
              "      <td>N</td>\n",
              "      <td>Y</td>\n",
              "      <td>1.0</td>\n",
              "      <td>780.40</td>\n",
              "      <td>0</td>\n",
              "      <td>Unpossessed</td>\n",
              "      <td>608.0</td>\n",
              "      <td>4952.910</td>\n",
              "      <td>2</td>\n",
              "      <td>Rural</td>\n",
              "      <td>1</td>\n",
              "      <td>54791.00</td>\n",
              "      <td>37469.98</td>\n",
              "    </tr>\n",
              "    <tr>\n",
              "      <th>2</th>\n",
              "      <td>C-3770</td>\n",
              "      <td>Rosetta Verne</td>\n",
              "      <td>F</td>\n",
              "      <td>65.0</td>\n",
              "      <td>988.19</td>\n",
              "      <td>High</td>\n",
              "      <td>Pensioner</td>\n",
              "      <td>nan</td>\n",
              "      <td>Semi-Urban</td>\n",
              "      <td>45593.04</td>\n",
              "      <td>171.95</td>\n",
              "      <td>N</td>\n",
              "      <td>Y</td>\n",
              "      <td>1.0</td>\n",
              "      <td>833.15</td>\n",
              "      <td>0</td>\n",
              "      <td>Unpossessed</td>\n",
              "      <td>546.0</td>\n",
              "      <td>988.190</td>\n",
              "      <td>2</td>\n",
              "      <td>Urban</td>\n",
              "      <td>0</td>\n",
              "      <td>72440.58</td>\n",
              "      <td>36474.43</td>\n",
              "    </tr>\n",
              "    <tr>\n",
              "      <th>3</th>\n",
              "      <td>C-26480</td>\n",
              "      <td>Zoe Chitty</td>\n",
              "      <td>F</td>\n",
              "      <td>65.0</td>\n",
              "      <td>2223.30</td>\n",
              "      <td>High</td>\n",
              "      <td>Pensioner</td>\n",
              "      <td>nan</td>\n",
              "      <td>Rural</td>\n",
              "      <td>80057.92</td>\n",
              "      <td>298.54</td>\n",
              "      <td>N</td>\n",
              "      <td>Y</td>\n",
              "      <td>2.0</td>\n",
              "      <td>832.70</td>\n",
              "      <td>1</td>\n",
              "      <td>Unpossessed</td>\n",
              "      <td>890.0</td>\n",
              "      <td>2223.965</td>\n",
              "      <td>2</td>\n",
              "      <td>Semi-Urban</td>\n",
              "      <td>1</td>\n",
              "      <td>121441.51</td>\n",
              "      <td>56040.54</td>\n",
              "    </tr>\n",
              "    <tr>\n",
              "      <th>4</th>\n",
              "      <td>C-23459</td>\n",
              "      <td>Afton Venema</td>\n",
              "      <td>F</td>\n",
              "      <td>31.0</td>\n",
              "      <td>2614.77</td>\n",
              "      <td>Low</td>\n",
              "      <td>Working</td>\n",
              "      <td>High skill tech staff</td>\n",
              "      <td>Semi-Urban</td>\n",
              "      <td>113858.89</td>\n",
              "      <td>491.41</td>\n",
              "      <td>N</td>\n",
              "      <td>Y</td>\n",
              "      <td>nan</td>\n",
              "      <td>745.55</td>\n",
              "      <td>1</td>\n",
              "      <td>Active</td>\n",
              "      <td>715.0</td>\n",
              "      <td>2614.770</td>\n",
              "      <td>4</td>\n",
              "      <td>Semi-Urban</td>\n",
              "      <td>1</td>\n",
              "      <td>208567.91</td>\n",
              "      <td>74008.28</td>\n",
              "    </tr>\n",
              "  </tbody>\n",
              "</table>\n",
              "</div>"
            ],
            "text/plain": [
              "  Customer ID               Name  ... Property Price  Loan Sanction Amount (USD)\n",
              "0     C-36995   Frederica Shealy  ...      119933.46                    54607.18\n",
              "1     C-33999  America Calderone  ...       54791.00                    37469.98\n",
              "2      C-3770      Rosetta Verne  ...       72440.58                    36474.43\n",
              "3     C-26480         Zoe Chitty  ...      121441.51                    56040.54\n",
              "4     C-23459       Afton Venema  ...      208567.91                    74008.28\n",
              "\n",
              "[5 rows x 24 columns]"
            ]
          },
          "metadata": {
            "tags": []
          },
          "execution_count": 242
        }
      ]
    },
    {
      "cell_type": "code",
      "metadata": {
        "id": "7Ja09mGWeUlD"
      },
      "source": [
        "########################## Multi column label binarizer ##########################################"
      ],
      "execution_count": 243,
      "outputs": []
    },
    {
      "cell_type": "code",
      "metadata": {
        "id": "UNU3pH6qegpQ"
      },
      "source": [
        "import pandas as pd\n",
        "from sklearn.preprocessing import LabelEncoder\n",
        "from sklearn.pipeline import Pipeline\n",
        "class MultiColumnLabelEncoder:\n",
        "    def __init__(self,columns = None):\n",
        "        self.columns = columns # array of column names to encode\n",
        "\n",
        "    def fit(self,X,y=None):\n",
        "        return self # not relevant here\n",
        "\n",
        "    def transform(self,X):\n",
        "        '''\n",
        "        Transforms columns of X specified in self.columns using\n",
        "        LabelEncoder(). If no columns specified, transforms all\n",
        "        columns in X.\n",
        "        '''\n",
        "        output = X.copy()\n",
        "        if self.columns is not None:\n",
        "            for col in self.columns:\n",
        "                output[col] = LabelEncoder().fit_transform(output[col])\n",
        "        else:\n",
        "            for colname,col in output.iteritems():\n",
        "                output[colname] = LabelEncoder().fit_transform(col)\n",
        "        return output\n",
        "\n",
        "    def fit_transform(self,X,y=None):\n",
        "        return self.fit(X,y).transform(X)\n"
      ],
      "execution_count": 244,
      "outputs": []
    },
    {
      "cell_type": "code",
      "metadata": {
        "id": "SjXnGBPherVa"
      },
      "source": [
        "train_treated_outlier_label = MultiColumnLabelEncoder(columns = object_cols).fit_transform(train_treated_outlier)"
      ],
      "execution_count": 245,
      "outputs": []
    },
    {
      "cell_type": "code",
      "metadata": {
        "id": "MvgZc8ODe3Qd"
      },
      "source": [
        "########################## correlation matrix ######################"
      ],
      "execution_count": 246,
      "outputs": []
    },
    {
      "cell_type": "code",
      "metadata": {
        "id": "bwpomD0ifTWZ"
      },
      "source": [
        "corr_mat = train_treated_outlier_label.corr()"
      ],
      "execution_count": 247,
      "outputs": []
    },
    {
      "cell_type": "code",
      "metadata": {
        "colab": {
          "base_uri": "https://localhost:8080/",
          "height": 641
        },
        "id": "FiMl8H5vfYGU",
        "outputId": "c967e877-afec-4fcd-e8e6-bfbf3860c779"
      },
      "source": [
        "import seaborn as sns\n",
        "f, ax = plt.subplots(figsize=(10, 8))\n",
        "\n",
        "sns.heatmap(corr_mat, mask=np.zeros_like(corr_mat, dtype=np.bool), cmap=sns.diverging_palette(220, 10, as_cmap=True),\n",
        "            square=True, ax=ax)"
      ],
      "execution_count": 248,
      "outputs": [
        {
          "output_type": "execute_result",
          "data": {
            "text/plain": [
              "<matplotlib.axes._subplots.AxesSubplot at 0x7fe96a88de90>"
            ]
          },
          "metadata": {
            "tags": []
          },
          "execution_count": 248
        },
        {
          "output_type": "display_data",
          "data": {
            "image/png": "[encoded data removed]",
            "text/plain": [
              "<Figure size 720x576 with 2 Axes>"
            ]
          },
          "metadata": {
            "tags": [],
            "needs_background": "light"
          }
        }
      ]
    },
    {
      "cell_type": "code",
      "metadata": {
        "id": "2qJO44Dzfmwi"
      },
      "source": [
        "##################### data normalization for the numerical features #################################"
      ],
      "execution_count": 249,
      "outputs": []
    },
    {
      "cell_type": "code",
      "metadata": {
        "id": "yNvR-Q7KgoK2"
      },
      "source": [
        "def minmax_normalization(df):\n",
        "  for col in numerical_cols:\n",
        "    df[col] = (df[col]-df[col].min())/(df[col].max()-df[col].min())\n",
        "  return df\n",
        "\n",
        "scaled_df = minmax_normalization(train_treated_outlier_label)"
      ],
      "execution_count": 250,
      "outputs": []
    },
    {
      "cell_type": "code",
      "metadata": {
        "colab": {
          "base_uri": "https://localhost:8080/",
          "height": 343
        },
        "id": "YjflXqA6g8zt",
        "outputId": "c74ca476-60f0-49f8-cf93-bf01f9ddf41e"
      },
      "source": [
        "scaled_df.head()"
      ],
      "execution_count": 251,
      "outputs": [
        {
          "output_type": "execute_result",
          "data": {
            "text/html": [
              "<div>\n",
              "<style scoped>\n",
              "    .dataframe tbody tr th:only-of-type {\n",
              "        vertical-align: middle;\n",
              "    }\n",
              "\n",
              "    .dataframe tbody tr th {\n",
              "        vertical-align: top;\n",
              "    }\n",
              "\n",
              "    .dataframe thead th {\n",
              "        text-align: right;\n",
              "    }\n",
              "</style>\n",
              "<table border=\"1\" class=\"dataframe\">\n",
              "  <thead>\n",
              "    <tr style=\"text-align: right;\">\n",
              "      <th></th>\n",
              "      <th>Customer ID</th>\n",
              "      <th>Name</th>\n",
              "      <th>Gender</th>\n",
              "      <th>Age</th>\n",
              "      <th>Income (USD)</th>\n",
              "      <th>Income Stability</th>\n",
              "      <th>Profession</th>\n",
              "      <th>Type of Employment</th>\n",
              "      <th>Location</th>\n",
              "      <th>Loan Amount Request (USD)</th>\n",
              "      <th>Current Loan Expenses (USD)</th>\n",
              "      <th>Expense Type 1</th>\n",
              "      <th>Expense Type 2</th>\n",
              "      <th>Dependents</th>\n",
              "      <th>Credit Score</th>\n",
              "      <th>No. of Defaults</th>\n",
              "      <th>Has Active Credit Card</th>\n",
              "      <th>Property ID</th>\n",
              "      <th>Property Age</th>\n",
              "      <th>Property Type</th>\n",
              "      <th>Property Location</th>\n",
              "      <th>Co-Applicant</th>\n",
              "      <th>Property Price</th>\n",
              "      <th>Loan Sanction Amount (USD)</th>\n",
              "    </tr>\n",
              "  </thead>\n",
              "  <tbody>\n",
              "    <tr>\n",
              "      <th>0</th>\n",
              "      <td>C-36995</td>\n",
              "      <td>Frederica Shealy</td>\n",
              "      <td>0</td>\n",
              "      <td>0.808511</td>\n",
              "      <td>0.183746</td>\n",
              "      <td>1</td>\n",
              "      <td>7</td>\n",
              "      <td>14</td>\n",
              "      <td>1</td>\n",
              "      <td>0.230372</td>\n",
              "      <td>0.169402</td>\n",
              "      <td>0</td>\n",
              "      <td>0</td>\n",
              "      <td>4</td>\n",
              "      <td>0.765969</td>\n",
              "      <td>0</td>\n",
              "      <td>3</td>\n",
              "      <td>0.751534</td>\n",
              "      <td>0.183636</td>\n",
              "      <td>3</td>\n",
              "      <td>0</td>\n",
              "      <td>2</td>\n",
              "      <td>0.276455</td>\n",
              "      <td>54607.18</td>\n",
              "    </tr>\n",
              "    <tr>\n",
              "      <th>1</th>\n",
              "      <td>C-33999</td>\n",
              "      <td>America Calderone</td>\n",
              "      <td>1</td>\n",
              "      <td>0.297872</td>\n",
              "      <td>0.667986</td>\n",
              "      <td>1</td>\n",
              "      <td>7</td>\n",
              "      <td>18</td>\n",
              "      <td>1</td>\n",
              "      <td>0.131897</td>\n",
              "      <td>0.431535</td>\n",
              "      <td>0</td>\n",
              "      <td>1</td>\n",
              "      <td>0</td>\n",
              "      <td>0.659462</td>\n",
              "      <td>0</td>\n",
              "      <td>2</td>\n",
              "      <td>0.610429</td>\n",
              "      <td>0.669410</td>\n",
              "      <td>1</td>\n",
              "      <td>0</td>\n",
              "      <td>2</td>\n",
              "      <td>0.127537</td>\n",
              "      <td>37469.98</td>\n",
              "    </tr>\n",
              "    <tr>\n",
              "      <th>2</th>\n",
              "      <td>C-3770</td>\n",
              "      <td>Rosetta Verne</td>\n",
              "      <td>0</td>\n",
              "      <td>1.000000</td>\n",
              "      <td>0.032236</td>\n",
              "      <td>0</td>\n",
              "      <td>3</td>\n",
              "      <td>18</td>\n",
              "      <td>1</td>\n",
              "      <td>0.127178</td>\n",
              "      <td>0.098263</td>\n",
              "      <td>0</td>\n",
              "      <td>1</td>\n",
              "      <td>0</td>\n",
              "      <td>0.852928</td>\n",
              "      <td>0</td>\n",
              "      <td>2</td>\n",
              "      <td>0.547035</td>\n",
              "      <td>0.031646</td>\n",
              "      <td>1</td>\n",
              "      <td>2</td>\n",
              "      <td>1</td>\n",
              "      <td>0.167885</td>\n",
              "      <td>36474.43</td>\n",
              "    </tr>\n",
              "    <tr>\n",
              "      <th>3</th>\n",
              "      <td>C-26480</td>\n",
              "      <td>Zoe Chitty</td>\n",
              "      <td>0</td>\n",
              "      <td>1.000000</td>\n",
              "      <td>0.230288</td>\n",
              "      <td>0</td>\n",
              "      <td>3</td>\n",
              "      <td>18</td>\n",
              "      <td>0</td>\n",
              "      <td>0.257854</td>\n",
              "      <td>0.228532</td>\n",
              "      <td>0</td>\n",
              "      <td>1</td>\n",
              "      <td>3</td>\n",
              "      <td>0.851278</td>\n",
              "      <td>1</td>\n",
              "      <td>2</td>\n",
              "      <td>0.898773</td>\n",
              "      <td>0.230433</td>\n",
              "      <td>1</td>\n",
              "      <td>1</td>\n",
              "      <td>2</td>\n",
              "      <td>0.279902</td>\n",
              "      <td>56040.54</td>\n",
              "    </tr>\n",
              "    <tr>\n",
              "      <th>4</th>\n",
              "      <td>C-23459</td>\n",
              "      <td>Afton Venema</td>\n",
              "      <td>0</td>\n",
              "      <td>0.276596</td>\n",
              "      <td>0.293061</td>\n",
              "      <td>1</td>\n",
              "      <td>7</td>\n",
              "      <td>6</td>\n",
              "      <td>1</td>\n",
              "      <td>0.386013</td>\n",
              "      <td>0.427007</td>\n",
              "      <td>0</td>\n",
              "      <td>1</td>\n",
              "      <td>10</td>\n",
              "      <td>0.531645</td>\n",
              "      <td>1</td>\n",
              "      <td>0</td>\n",
              "      <td>0.719836</td>\n",
              "      <td>0.293297</td>\n",
              "      <td>3</td>\n",
              "      <td>1</td>\n",
              "      <td>2</td>\n",
              "      <td>0.479075</td>\n",
              "      <td>74008.28</td>\n",
              "    </tr>\n",
              "  </tbody>\n",
              "</table>\n",
              "</div>"
            ],
            "text/plain": [
              "  Customer ID               Name  ...  Property Price  Loan Sanction Amount (USD)\n",
              "0     C-36995   Frederica Shealy  ...        0.276455                    54607.18\n",
              "1     C-33999  America Calderone  ...        0.127537                    37469.98\n",
              "2      C-3770      Rosetta Verne  ...        0.167885                    36474.43\n",
              "3     C-26480         Zoe Chitty  ...        0.279902                    56040.54\n",
              "4     C-23459       Afton Venema  ...        0.479075                    74008.28\n",
              "\n",
              "[5 rows x 24 columns]"
            ]
          },
          "metadata": {
            "tags": []
          },
          "execution_count": 251
        }
      ]
    },
    {
      "cell_type": "code",
      "metadata": {
        "id": "j1HEfXDkg-HI"
      },
      "source": [
        "#################### perform the same operations on the test dataset #####################################"
      ],
      "execution_count": 252,
      "outputs": []
    },
    {
      "cell_type": "code",
      "metadata": {
        "colab": {
          "base_uri": "https://localhost:8080/",
          "height": 360
        },
        "id": "TyFcO6jjhh1P",
        "outputId": "2f39727b-8a72-4661-8647-3d230c031817"
      },
      "source": [
        "test.head()"
      ],
      "execution_count": 253,
      "outputs": [
        {
          "output_type": "execute_result",
          "data": {
            "text/html": [
              "<div>\n",
              "<style scoped>\n",
              "    .dataframe tbody tr th:only-of-type {\n",
              "        vertical-align: middle;\n",
              "    }\n",
              "\n",
              "    .dataframe tbody tr th {\n",
              "        vertical-align: top;\n",
              "    }\n",
              "\n",
              "    .dataframe thead th {\n",
              "        text-align: right;\n",
              "    }\n",
              "</style>\n",
              "<table border=\"1\" class=\"dataframe\">\n",
              "  <thead>\n",
              "    <tr style=\"text-align: right;\">\n",
              "      <th></th>\n",
              "      <th>Customer ID</th>\n",
              "      <th>Name</th>\n",
              "      <th>Gender</th>\n",
              "      <th>Age</th>\n",
              "      <th>Income (USD)</th>\n",
              "      <th>Income Stability</th>\n",
              "      <th>Profession</th>\n",
              "      <th>Type of Employment</th>\n",
              "      <th>Location</th>\n",
              "      <th>Loan Amount Request (USD)</th>\n",
              "      <th>Current Loan Expenses (USD)</th>\n",
              "      <th>Expense Type 1</th>\n",
              "      <th>Expense Type 2</th>\n",
              "      <th>Dependents</th>\n",
              "      <th>Credit Score</th>\n",
              "      <th>No. of Defaults</th>\n",
              "      <th>Has Active Credit Card</th>\n",
              "      <th>Property ID</th>\n",
              "      <th>Property Age</th>\n",
              "      <th>Property Type</th>\n",
              "      <th>Property Location</th>\n",
              "      <th>Co-Applicant</th>\n",
              "      <th>Property Price</th>\n",
              "    </tr>\n",
              "  </thead>\n",
              "  <tbody>\n",
              "    <tr>\n",
              "      <th>0</th>\n",
              "      <td>C-26247</td>\n",
              "      <td>Tandra Olszewski</td>\n",
              "      <td>F</td>\n",
              "      <td>47</td>\n",
              "      <td>3472.69</td>\n",
              "      <td>Low</td>\n",
              "      <td>Commercial associate</td>\n",
              "      <td>Managers</td>\n",
              "      <td>Semi-Urban</td>\n",
              "      <td>137088.98</td>\n",
              "      <td>396.72</td>\n",
              "      <td>N</td>\n",
              "      <td>N</td>\n",
              "      <td>2.0</td>\n",
              "      <td>799.14</td>\n",
              "      <td>0</td>\n",
              "      <td>Unpossessed</td>\n",
              "      <td>843</td>\n",
              "      <td>3472.69</td>\n",
              "      <td>2</td>\n",
              "      <td>Urban</td>\n",
              "      <td>1</td>\n",
              "      <td>236644.50</td>\n",
              "    </tr>\n",
              "    <tr>\n",
              "      <th>1</th>\n",
              "      <td>C-35067</td>\n",
              "      <td>Jeannette Cha</td>\n",
              "      <td>F</td>\n",
              "      <td>57</td>\n",
              "      <td>1184.84</td>\n",
              "      <td>Low</td>\n",
              "      <td>Working</td>\n",
              "      <td>Sales staff</td>\n",
              "      <td>Rural</td>\n",
              "      <td>104771.59</td>\n",
              "      <td>463.76</td>\n",
              "      <td>Y</td>\n",
              "      <td>Y</td>\n",
              "      <td>2.0</td>\n",
              "      <td>833.31</td>\n",
              "      <td>0</td>\n",
              "      <td>Unpossessed</td>\n",
              "      <td>22</td>\n",
              "      <td>1184.84</td>\n",
              "      <td>1</td>\n",
              "      <td>Rural</td>\n",
              "      <td>1</td>\n",
              "      <td>142357.30</td>\n",
              "    </tr>\n",
              "    <tr>\n",
              "      <th>2</th>\n",
              "      <td>C-34590</td>\n",
              "      <td>Keva Godfrey</td>\n",
              "      <td>F</td>\n",
              "      <td>52</td>\n",
              "      <td>1266.27</td>\n",
              "      <td>Low</td>\n",
              "      <td>Working</td>\n",
              "      <td>nan</td>\n",
              "      <td>Semi-Urban</td>\n",
              "      <td>176684.91</td>\n",
              "      <td>493.15</td>\n",
              "      <td>N</td>\n",
              "      <td>Y</td>\n",
              "      <td>3.0</td>\n",
              "      <td>627.44</td>\n",
              "      <td>0</td>\n",
              "      <td>Unpossessed</td>\n",
              "      <td>1</td>\n",
              "      <td>1266.27</td>\n",
              "      <td>1</td>\n",
              "      <td>Urban</td>\n",
              "      <td>1</td>\n",
              "      <td>300991.24</td>\n",
              "    </tr>\n",
              "    <tr>\n",
              "      <th>3</th>\n",
              "      <td>C-16668</td>\n",
              "      <td>Elva Sackett</td>\n",
              "      <td>M</td>\n",
              "      <td>65</td>\n",
              "      <td>1369.72</td>\n",
              "      <td>High</td>\n",
              "      <td>Pensioner</td>\n",
              "      <td>nan</td>\n",
              "      <td>Rural</td>\n",
              "      <td>97009.18</td>\n",
              "      <td>446.15</td>\n",
              "      <td>N</td>\n",
              "      <td>Y</td>\n",
              "      <td>2.0</td>\n",
              "      <td>833.20</td>\n",
              "      <td>0</td>\n",
              "      <td>Inactive</td>\n",
              "      <td>730</td>\n",
              "      <td>1369.72</td>\n",
              "      <td>1</td>\n",
              "      <td>Semi-Urban</td>\n",
              "      <td>0</td>\n",
              "      <td>125612.10</td>\n",
              "    </tr>\n",
              "    <tr>\n",
              "      <th>4</th>\n",
              "      <td>C-12196</td>\n",
              "      <td>Sade Constable</td>\n",
              "      <td>F</td>\n",
              "      <td>60</td>\n",
              "      <td>1939.23</td>\n",
              "      <td>High</td>\n",
              "      <td>Pensioner</td>\n",
              "      <td>nan</td>\n",
              "      <td>Urban</td>\n",
              "      <td>109980.00</td>\n",
              "      <td>370.10</td>\n",
              "      <td>N</td>\n",
              "      <td>N</td>\n",
              "      <td>nan</td>\n",
              "      <td>NaN</td>\n",
              "      <td>0</td>\n",
              "      <td>nan</td>\n",
              "      <td>356</td>\n",
              "      <td>1939.23</td>\n",
              "      <td>4</td>\n",
              "      <td>Semi-Urban</td>\n",
              "      <td>1</td>\n",
              "      <td>180908.00</td>\n",
              "    </tr>\n",
              "  </tbody>\n",
              "</table>\n",
              "</div>"
            ],
            "text/plain": [
              "  Customer ID              Name  ... Co-Applicant  Property Price\n",
              "0     C-26247  Tandra Olszewski  ...            1       236644.50\n",
              "1     C-35067     Jeannette Cha  ...            1       142357.30\n",
              "2     C-34590      Keva Godfrey  ...            1       300991.24\n",
              "3     C-16668      Elva Sackett  ...            0       125612.10\n",
              "4     C-12196    Sade Constable  ...            1       180908.00\n",
              "\n",
              "[5 rows x 23 columns]"
            ]
          },
          "metadata": {
            "tags": []
          },
          "execution_count": 253
        }
      ]
    },
    {
      "cell_type": "code",
      "metadata": {
        "colab": {
          "base_uri": "https://localhost:8080/"
        },
        "id": "pyn2yckShjSf",
        "outputId": "5e17bf47-6b4e-4594-9b0b-79be9e3db530"
      },
      "source": [
        "test.isnull().sum()"
      ],
      "execution_count": 254,
      "outputs": [
        {
          "output_type": "execute_result",
          "data": {
            "text/plain": [
              "Customer ID                      0\n",
              "Name                             0\n",
              "Gender                           0\n",
              "Age                              0\n",
              "Income (USD)                   750\n",
              "Income Stability                 0\n",
              "Profession                       0\n",
              "Type of Employment               0\n",
              "Location                         0\n",
              "Loan Amount Request (USD)        0\n",
              "Current Loan Expenses (USD)     83\n",
              "Expense Type 1                   0\n",
              "Expense Type 2                   0\n",
              "Dependents                       0\n",
              "Credit Score                   743\n",
              "No. of Defaults                  0\n",
              "Has Active Credit Card           0\n",
              "Property ID                      0\n",
              "Property Age                   892\n",
              "Property Type                    0\n",
              "Property Location                0\n",
              "Co-Applicant                     0\n",
              "Property Price                 168\n",
              "dtype: int64"
            ]
          },
          "metadata": {
            "tags": []
          },
          "execution_count": 254
        }
      ]
    },
    {
      "cell_type": "code",
      "metadata": {
        "colab": {
          "base_uri": "https://localhost:8080/"
        },
        "id": "wwt_EiZohm0e",
        "outputId": "a34349e9-890d-46ca-ed4d-97a453367f57"
      },
      "source": [
        "test_treated = missing_transform_numeric(test.copy())\n",
        "test_treated = missing_transform_object(test_treated)\n"
      ],
      "execution_count": 255,
      "outputs": [
        {
          "output_type": "stream",
          "text": [
            "Age 40.0\n",
            "Income (USD) 2223.3\n",
            "Loan Amount Request (USD) 75114.08499999999\n",
            "Current Loan Expenses (USD) 375.09\n",
            "Credit Score 739.815\n",
            "Property ID 504.0\n",
            "Property Age 2223.965\n",
            "Property Price 109993.61\n",
            "Gender M\n",
            "Income Stability Low\n",
            "Profession Working\n",
            "Type of Employment nan\n",
            "Location Semi-Urban\n",
            "Expense Type 1 N\n",
            "Expense Type 2 Y\n",
            "Dependents 2.0\n",
            "No. of Defaults 0\n",
            "Has Active Credit Card Active\n",
            "Property Type 1\n",
            "Property Location Semi-Urban\n",
            "Co-Applicant 1\n"
          ],
          "name": "stdout"
        }
      ]
    },
    {
      "cell_type": "code",
      "metadata": {
        "colab": {
          "base_uri": "https://localhost:8080/",
          "height": 360
        },
        "id": "xChJnNMFiRKQ",
        "outputId": "9270e804-e63d-4e9f-d603-f3fad39407a2"
      },
      "source": [
        "test_treated.head()"
      ],
      "execution_count": 256,
      "outputs": [
        {
          "output_type": "execute_result",
          "data": {
            "text/html": [
              "<div>\n",
              "<style scoped>\n",
              "    .dataframe tbody tr th:only-of-type {\n",
              "        vertical-align: middle;\n",
              "    }\n",
              "\n",
              "    .dataframe tbody tr th {\n",
              "        vertical-align: top;\n",
              "    }\n",
              "\n",
              "    .dataframe thead th {\n",
              "        text-align: right;\n",
              "    }\n",
              "</style>\n",
              "<table border=\"1\" class=\"dataframe\">\n",
              "  <thead>\n",
              "    <tr style=\"text-align: right;\">\n",
              "      <th></th>\n",
              "      <th>Customer ID</th>\n",
              "      <th>Name</th>\n",
              "      <th>Gender</th>\n",
              "      <th>Age</th>\n",
              "      <th>Income (USD)</th>\n",
              "      <th>Income Stability</th>\n",
              "      <th>Profession</th>\n",
              "      <th>Type of Employment</th>\n",
              "      <th>Location</th>\n",
              "      <th>Loan Amount Request (USD)</th>\n",
              "      <th>Current Loan Expenses (USD)</th>\n",
              "      <th>Expense Type 1</th>\n",
              "      <th>Expense Type 2</th>\n",
              "      <th>Dependents</th>\n",
              "      <th>Credit Score</th>\n",
              "      <th>No. of Defaults</th>\n",
              "      <th>Has Active Credit Card</th>\n",
              "      <th>Property ID</th>\n",
              "      <th>Property Age</th>\n",
              "      <th>Property Type</th>\n",
              "      <th>Property Location</th>\n",
              "      <th>Co-Applicant</th>\n",
              "      <th>Property Price</th>\n",
              "    </tr>\n",
              "  </thead>\n",
              "  <tbody>\n",
              "    <tr>\n",
              "      <th>0</th>\n",
              "      <td>C-26247</td>\n",
              "      <td>Tandra Olszewski</td>\n",
              "      <td>F</td>\n",
              "      <td>47</td>\n",
              "      <td>3472.69</td>\n",
              "      <td>Low</td>\n",
              "      <td>Commercial associate</td>\n",
              "      <td>Managers</td>\n",
              "      <td>Semi-Urban</td>\n",
              "      <td>137088.98</td>\n",
              "      <td>396.72</td>\n",
              "      <td>N</td>\n",
              "      <td>N</td>\n",
              "      <td>2.0</td>\n",
              "      <td>799.140</td>\n",
              "      <td>0</td>\n",
              "      <td>Unpossessed</td>\n",
              "      <td>843</td>\n",
              "      <td>3472.69</td>\n",
              "      <td>2</td>\n",
              "      <td>Urban</td>\n",
              "      <td>1</td>\n",
              "      <td>236644.50</td>\n",
              "    </tr>\n",
              "    <tr>\n",
              "      <th>1</th>\n",
              "      <td>C-35067</td>\n",
              "      <td>Jeannette Cha</td>\n",
              "      <td>F</td>\n",
              "      <td>57</td>\n",
              "      <td>1184.84</td>\n",
              "      <td>Low</td>\n",
              "      <td>Working</td>\n",
              "      <td>Sales staff</td>\n",
              "      <td>Rural</td>\n",
              "      <td>104771.59</td>\n",
              "      <td>463.76</td>\n",
              "      <td>Y</td>\n",
              "      <td>Y</td>\n",
              "      <td>2.0</td>\n",
              "      <td>833.310</td>\n",
              "      <td>0</td>\n",
              "      <td>Unpossessed</td>\n",
              "      <td>22</td>\n",
              "      <td>1184.84</td>\n",
              "      <td>1</td>\n",
              "      <td>Rural</td>\n",
              "      <td>1</td>\n",
              "      <td>142357.30</td>\n",
              "    </tr>\n",
              "    <tr>\n",
              "      <th>2</th>\n",
              "      <td>C-34590</td>\n",
              "      <td>Keva Godfrey</td>\n",
              "      <td>F</td>\n",
              "      <td>52</td>\n",
              "      <td>1266.27</td>\n",
              "      <td>Low</td>\n",
              "      <td>Working</td>\n",
              "      <td>nan</td>\n",
              "      <td>Semi-Urban</td>\n",
              "      <td>176684.91</td>\n",
              "      <td>493.15</td>\n",
              "      <td>N</td>\n",
              "      <td>Y</td>\n",
              "      <td>3.0</td>\n",
              "      <td>627.440</td>\n",
              "      <td>0</td>\n",
              "      <td>Unpossessed</td>\n",
              "      <td>1</td>\n",
              "      <td>1266.27</td>\n",
              "      <td>1</td>\n",
              "      <td>Urban</td>\n",
              "      <td>1</td>\n",
              "      <td>300991.24</td>\n",
              "    </tr>\n",
              "    <tr>\n",
              "      <th>3</th>\n",
              "      <td>C-16668</td>\n",
              "      <td>Elva Sackett</td>\n",
              "      <td>M</td>\n",
              "      <td>65</td>\n",
              "      <td>1369.72</td>\n",
              "      <td>High</td>\n",
              "      <td>Pensioner</td>\n",
              "      <td>nan</td>\n",
              "      <td>Rural</td>\n",
              "      <td>97009.18</td>\n",
              "      <td>446.15</td>\n",
              "      <td>N</td>\n",
              "      <td>Y</td>\n",
              "      <td>2.0</td>\n",
              "      <td>833.200</td>\n",
              "      <td>0</td>\n",
              "      <td>Inactive</td>\n",
              "      <td>730</td>\n",
              "      <td>1369.72</td>\n",
              "      <td>1</td>\n",
              "      <td>Semi-Urban</td>\n",
              "      <td>0</td>\n",
              "      <td>125612.10</td>\n",
              "    </tr>\n",
              "    <tr>\n",
              "      <th>4</th>\n",
              "      <td>C-12196</td>\n",
              "      <td>Sade Constable</td>\n",
              "      <td>F</td>\n",
              "      <td>60</td>\n",
              "      <td>1939.23</td>\n",
              "      <td>High</td>\n",
              "      <td>Pensioner</td>\n",
              "      <td>nan</td>\n",
              "      <td>Urban</td>\n",
              "      <td>109980.00</td>\n",
              "      <td>370.10</td>\n",
              "      <td>N</td>\n",
              "      <td>N</td>\n",
              "      <td>nan</td>\n",
              "      <td>739.815</td>\n",
              "      <td>0</td>\n",
              "      <td>nan</td>\n",
              "      <td>356</td>\n",
              "      <td>1939.23</td>\n",
              "      <td>4</td>\n",
              "      <td>Semi-Urban</td>\n",
              "      <td>1</td>\n",
              "      <td>180908.00</td>\n",
              "    </tr>\n",
              "  </tbody>\n",
              "</table>\n",
              "</div>"
            ],
            "text/plain": [
              "  Customer ID              Name  ... Co-Applicant  Property Price\n",
              "0     C-26247  Tandra Olszewski  ...            1       236644.50\n",
              "1     C-35067     Jeannette Cha  ...            1       142357.30\n",
              "2     C-34590      Keva Godfrey  ...            1       300991.24\n",
              "3     C-16668      Elva Sackett  ...            0       125612.10\n",
              "4     C-12196    Sade Constable  ...            1       180908.00\n",
              "\n",
              "[5 rows x 23 columns]"
            ]
          },
          "metadata": {
            "tags": []
          },
          "execution_count": 256
        }
      ]
    },
    {
      "cell_type": "code",
      "metadata": {
        "colab": {
          "base_uri": "https://localhost:8080/"
        },
        "id": "kqWdUZZFi3hd",
        "outputId": "95c56615-9b8c-406d-a026-f6e48f96dcf6"
      },
      "source": [
        "test_treated['Property Price'].value_counts(), train['Property Price'].value_counts(), train_treated['Property Price'].value_counts()"
      ],
      "execution_count": 257,
      "outputs": [
        {
          "output_type": "execute_result",
          "data": {
            "text/plain": [
              "(109993.61    168\n",
              " 37220.06       2\n",
              " 197833.75      2\n",
              " 88372.15       2\n",
              " 77441.22       2\n",
              "             ... \n",
              " 239450.45      1\n",
              " 95426.73       1\n",
              " 117867.03      1\n",
              " 259019.53      1\n",
              " 475852.06      1\n",
              " Name: Property Price, Length: 19824, dtype: int64, -999.00       341\n",
              "  77957.35       2\n",
              "  57914.08       2\n",
              "  279299.82      2\n",
              "  28252.49       2\n",
              "              ... \n",
              "  282237.12      1\n",
              "  108754.71      1\n",
              "  116798.58      1\n",
              "  190803.36      1\n",
              "  260239.33      1\n",
              " Name: Property Price, Length: 29303, dtype: int64, -999.0000       341\n",
              "  436441.5221    297\n",
              "  57914.0800       2\n",
              "  279299.8200      2\n",
              "  51652.5200       2\n",
              "                ... \n",
              "  27603.2900       1\n",
              "  264143.9500      1\n",
              "  35831.6800       1\n",
              "  282237.1200      1\n",
              "  260239.3300      1\n",
              " Name: Property Price, Length: 29007, dtype: int64)"
            ]
          },
          "metadata": {
            "tags": []
          },
          "execution_count": 257
        }
      ]
    },
    {
      "cell_type": "code",
      "metadata": {
        "colab": {
          "base_uri": "https://localhost:8080/"
        },
        "id": "ids5gT-fiyxJ",
        "outputId": "4a4b1641-f35c-4e9a-a3de-d2a196fb8ce7"
      },
      "source": [
        "test_treated.dtypes"
      ],
      "execution_count": 260,
      "outputs": [
        {
          "output_type": "execute_result",
          "data": {
            "text/plain": [
              "Customer ID                     object\n",
              "Name                            object\n",
              "Gender                          object\n",
              "Age                            float64\n",
              "Income (USD)                   float64\n",
              "Income Stability                object\n",
              "Profession                      object\n",
              "Type of Employment              object\n",
              "Location                        object\n",
              "Loan Amount Request (USD)      float64\n",
              "Current Loan Expenses (USD)    float64\n",
              "Expense Type 1                  object\n",
              "Expense Type 2                  object\n",
              "Dependents                      object\n",
              "Credit Score                   float64\n",
              "No. of Defaults                 object\n",
              "Has Active Credit Card          object\n",
              "Property ID                    float64\n",
              "Property Age                   float64\n",
              "Property Type                   object\n",
              "Property Location               object\n",
              "Co-Applicant                    object\n",
              "Property Price                 float64\n",
              "dtype: object"
            ]
          },
          "metadata": {
            "tags": []
          },
          "execution_count": 260
        }
      ]
    },
    {
      "cell_type": "code",
      "metadata": {
        "colab": {
          "base_uri": "https://localhost:8080/"
        },
        "id": "2uRfwxACifD9",
        "outputId": "a5c27380-7a11-48d4-bc0c-c7cb6cd455c7"
      },
      "source": [
        "test_treated_outlier = transform_outlier(test_treated)"
      ],
      "execution_count": 259,
      "outputs": [
        {
          "output_type": "stream",
          "text": [
            "Age\n",
            "Income (USD)\n",
            "Loan Amount Request (USD)\n",
            "Current Loan Expenses (USD)\n",
            "Credit Score\n",
            "Property ID\n",
            "Property Age\n",
            "Property Price\n"
          ],
          "name": "stdout"
        }
      ]
    },
    {
      "cell_type": "code",
      "metadata": {
        "id": "JsJFyHytihDX"
      },
      "source": [
        "test_treated_outlier_label = MultiColumnLabelEncoder(columns = object_cols).transform(test_treated_outlier)\n",
        "scaled_df_test = minmax_normalization(test_treated_outlier_label)"
      ],
      "execution_count": 261,
      "outputs": []
    },
    {
      "cell_type": "code",
      "metadata": {
        "id": "qlj5iu9jihdE"
      },
      "source": [
        "from sklearn.model_selection import train_test_split\n",
        "X_train, X_test = train_test_split(scaled_df, test_size=0.2, shuffle=True)"
      ],
      "execution_count": 272,
      "outputs": []
    },
    {
      "cell_type": "code",
      "metadata": {
        "colab": {
          "base_uri": "https://localhost:8080/"
        },
        "id": "3juf98IPnFCI",
        "outputId": "52531c96-220e-46f3-8f32-a5c8445d17c6"
      },
      "source": [
        "X_train.shape, X_test.shape"
      ],
      "execution_count": 273,
      "outputs": [
        {
          "output_type": "execute_result",
          "data": {
            "text/plain": [
              "((23728, 24), (5932, 24))"
            ]
          },
          "metadata": {
            "tags": []
          },
          "execution_count": 273
        }
      ]
    },
    {
      "cell_type": "code",
      "metadata": {
        "colab": {
          "base_uri": "https://localhost:8080/"
        },
        "id": "dkQ47739nHuQ",
        "outputId": "82182519-3c6b-418a-800f-7071bfc12f96"
      },
      "source": [
        "from xgboost import XGBRegressor\n",
        "from sklearn.metrics import mean_squared_error, r2_score, mean_absolute_error\n",
        "model = XGBRegressor()\n",
        "model.fit(X_train[numerical_cols+object_cols], X_train[target_col])"
      ],
      "execution_count": 274,
      "outputs": [
        {
          "output_type": "stream",
          "text": [
            "[18:47:36] WARNING: /workspace/src/objective/regression_obj.cu:152: reg:linear is now deprecated in favor of reg:squarederror.\n"
          ],
          "name": "stdout"
        },
        {
          "output_type": "execute_result",
          "data": {
            "text/plain": [
              "XGBRegressor(base_score=0.5, booster='gbtree', colsample_bylevel=1,\n",
              "             colsample_bynode=1, colsample_bytree=1, gamma=0,\n",
              "             importance_type='gain', learning_rate=0.1, max_delta_step=0,\n",
              "             max_depth=3, min_child_weight=1, missing=None, n_estimators=100,\n",
              "             n_jobs=1, nthread=None, objective='reg:linear', random_state=0,\n",
              "             reg_alpha=0, reg_lambda=1, scale_pos_weight=1, seed=None,\n",
              "             silent=None, subsample=1, verbosity=1)"
            ]
          },
          "metadata": {
            "tags": []
          },
          "execution_count": 274
        }
      ]
    },
    {
      "cell_type": "code",
      "metadata": {
        "id": "sk33EjpMn4Aa"
      },
      "source": [
        "preds = model.predict(X_test[numerical_cols+object_cols])"
      ],
      "execution_count": 275,
      "outputs": []
    },
    {
      "cell_type": "code",
      "metadata": {
        "colab": {
          "base_uri": "https://localhost:8080/"
        },
        "id": "RLF8Ou3AoDyz",
        "outputId": "4f31c232-31e0-4e78-97f0-371d37723cf6"
      },
      "source": [
        "mean_squared_error(X_test[target_col], preds), mean_absolute_error(X_test[target_col], preds), r2_score(X_test[target_col], preds)"
      ],
      "execution_count": 276,
      "outputs": [
        {
          "output_type": "execute_result",
          "data": {
            "text/plain": [
              "(543821428.4583764, 13304.984815551063, 0.7723640458713922)"
            ]
          },
          "metadata": {
            "tags": []
          },
          "execution_count": 276
        }
      ]
    },
    {
      "cell_type": "code",
      "metadata": {
        "id": "2-Wb4qtdoMcc"
      },
      "source": [
        "from sklearn.model_selection import RandomizedSearchCV, GridSearchCV\n",
        "from sklearn.model_selection import StratifiedKFold"
      ],
      "execution_count": 277,
      "outputs": []
    },
    {
      "cell_type": "code",
      "metadata": {
        "id": "BfLKv0adopvw"
      },
      "source": [
        "params = {\n",
        "        'min_child_weight': [1, 5, 10],\n",
        "        'gamma': [0.5, 1, 1.5, 2, 5],\n",
        "        'subsample': [0.6, 0.8, 1.0],\n",
        "        'colsample_bytree': [0.6, 0.8, 1.0],\n",
        "        'max_depth': [3, 4, 5],\n",
        "        'learning_rate': [0.01, 0.05, 0.001]\n",
        "        }"
      ],
      "execution_count": 288,
      "outputs": []
    },
    {
      "cell_type": "code",
      "metadata": {
        "id": "UflEAz69osGC"
      },
      "source": [
        "xgb = XGBRegressor( n_estimators=600, objective='reg:linear',\n",
        "                    silent=True, nthread=1)"
      ],
      "execution_count": 289,
      "outputs": []
    },
    {
      "cell_type": "code",
      "metadata": {
        "id": "w3iy5N0BpssG"
      },
      "source": [
        "from datetime import datetime\n",
        "def timer(start_time=None):\n",
        "    if not start_time:\n",
        "        start_time = datetime.now()\n",
        "        return start_time\n",
        "    elif start_time:\n",
        "        thour, temp_sec = divmod((datetime.now() - start_time).total_seconds(), 3600)\n",
        "        tmin, tsec = divmod(temp_sec, 60)\n",
        "        print('\\n Time taken: %i hours %i minutes and %s seconds.' % (thour, tmin, round(tsec, 2)))"
      ],
      "execution_count": 290,
      "outputs": []
    },
    {
      "cell_type": "code",
      "metadata": {
        "colab": {
          "base_uri": "https://localhost:8080/"
        },
        "id": "r02SRR_WowLo",
        "outputId": "b9780014-52d7-40c3-c476-ff75ae31f565"
      },
      "source": [
        "folds = 5\n",
        "\n",
        "# skf = StratifiedKFold(n_splits=folds, shuffle = True, random_state = 1001)\n",
        "\n",
        "random_search = GridSearchCV(xgb, params, n_jobs=-1, cv=3, verbose=True)\n",
        "\n",
        "# Here we go\n",
        "start_time = timer(None) # timing starts from this point for \"start_time\" variable\n",
        "random_search.fit(scaled_df[numerical_cols+object_cols],scaled_df[target_col])\n",
        "timer(start_time) # timing ends here for \"start_time\" variable"
      ],
      "execution_count": null,
      "outputs": [
        {
          "output_type": "stream",
          "text": [
            "Fitting 3 folds for each of 1215 candidates, totalling 3645 fits\n"
          ],
          "name": "stdout"
        },
        {
          "output_type": "stream",
          "text": [
            "[Parallel(n_jobs=-1)]: Using backend LokyBackend with 2 concurrent workers.\n",
            "[Parallel(n_jobs=-1)]: Done  46 tasks      | elapsed:  4.2min\n",
            "[Parallel(n_jobs=-1)]: Done 196 tasks      | elapsed: 19.7min\n"
          ],
          "name": "stderr"
        }
      ]
    },
    {
      "cell_type": "code",
      "metadata": {
        "id": "FftuaEMlo1So"
      },
      "source": [
        "print(random_search.best_score_)\n",
        "print(random_search.best_params_)"
      ],
      "execution_count": null,
      "outputs": []
    },
    {
      "cell_type": "code",
      "metadata": {
        "id": "Ed0EwznFr2BF"
      },
      "source": [
        "model_final =  random_search.best_estimator_\n",
        "y_predict_train = random_search.best_estimator_.predict(scaled_df[numerical_cols+object_cols])\n",
        "y_predict_test = random_search.best_estimator_.predict(scaled_df_test[numerical_cols+object_cols])"
      ],
      "execution_count": null,
      "outputs": []
    },
    {
      "cell_type": "code",
      "metadata": {
        "id": "UhF4IjKPsMta"
      },
      "source": [
        ""
      ],
      "execution_count": null,
      "outputs": []
    }
  ]
}